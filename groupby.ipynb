{
 "cells": [
  {
   "cell_type": "code",
   "execution_count": 1,
   "metadata": {},
   "outputs": [],
   "source": [
    "import pandas as pd\n",
    "import numpy as np"
   ]
  },
  {
   "cell_type": "code",
   "execution_count": 2,
   "metadata": {},
   "outputs": [
    {
     "data": {
      "text/html": [
       "<div>\n",
       "<style scoped>\n",
       "    .dataframe tbody tr th:only-of-type {\n",
       "        vertical-align: middle;\n",
       "    }\n",
       "\n",
       "    .dataframe tbody tr th {\n",
       "        vertical-align: top;\n",
       "    }\n",
       "\n",
       "    .dataframe thead th {\n",
       "        text-align: right;\n",
       "    }\n",
       "</style>\n",
       "<table border=\"1\" class=\"dataframe\">\n",
       "  <thead>\n",
       "    <tr style=\"text-align: right;\">\n",
       "      <th>特征</th>\n",
       "      <th>行业</th>\n",
       "      <th>价格</th>\n",
       "      <th>交易量</th>\n",
       "    </tr>\n",
       "    <tr>\n",
       "      <th>代号</th>\n",
       "      <th></th>\n",
       "      <th></th>\n",
       "      <th></th>\n",
       "    </tr>\n",
       "  </thead>\n",
       "  <tbody>\n",
       "    <tr>\n",
       "      <th>JD</th>\n",
       "      <td>电商</td>\n",
       "      <td>25.95</td>\n",
       "      <td>27113291</td>\n",
       "    </tr>\n",
       "    <tr>\n",
       "      <th>APPL</th>\n",
       "      <td>科技</td>\n",
       "      <td>172.97</td>\n",
       "      <td>18913154</td>\n",
       "    </tr>\n",
       "  </tbody>\n",
       "</table>\n",
       "</div>"
      ],
      "text/plain": [
       "特征    行业      价格       交易量\n",
       "代号                        \n",
       "JD    电商   25.95  27113291\n",
       "APPL  科技  172.97  18913154"
      ]
     },
     "execution_count": 2,
     "metadata": {},
     "output_type": "execute_result"
    }
   ],
   "source": [
    "symbol=['JD','APPL']\n",
    "data={'行业':['电商','科技'],\n",
    "     '价格':[25.95,172.97],\n",
    "     '交易量':[27113291,18913154]}\n",
    "df=pd.DataFrame(data,index=symbol)\n",
    "df.columns.name='特征' #列索引\n",
    "df.index.name='代号'   #行索引\n",
    "df"
   ]
  },
  {
   "cell_type": "markdown",
   "metadata": {},
   "source": [
    "stack:列索引-行索引\n",
    "\n",
    "df变成两层序列"
   ]
  },
  {
   "cell_type": "code",
   "execution_count": 3,
   "metadata": {},
   "outputs": [
    {
     "data": {
      "text/plain": [
       "代号    特征 \n",
       "JD    行业           电商\n",
       "      价格        25.95\n",
       "      交易量    27113291\n",
       "APPL  行业           科技\n",
       "      价格       172.97\n",
       "      交易量    18913154\n",
       "dtype: object"
      ]
     },
     "execution_count": 3,
     "metadata": {},
     "output_type": "execute_result"
    }
   ],
   "source": [
    "c2i_Series=df.stack()\n",
    "c2i_Series"
   ]
  },
  {
   "cell_type": "markdown",
   "metadata": {},
   "source": [
    "unstack:行索引-列索引\n",
    "\n",
    "内外层差别"
   ]
  },
  {
   "cell_type": "code",
   "execution_count": 4,
   "metadata": {},
   "outputs": [
    {
     "data": {
      "text/plain": [
       "特征   代号  \n",
       "行业   JD            电商\n",
       "     APPL          科技\n",
       "价格   JD         25.95\n",
       "     APPL      172.97\n",
       "交易量  JD      27113291\n",
       "     APPL    18913154\n",
       "dtype: object"
      ]
     },
     "execution_count": 4,
     "metadata": {},
     "output_type": "execute_result"
    }
   ],
   "source": [
    "i2c_Series=df.unstack()\n",
    "i2c_Series"
   ]
  },
  {
   "cell_type": "code",
   "execution_count": 5,
   "metadata": {},
   "outputs": [
    {
     "data": {
      "text/plain": [
       "(Index(['JD', 'APPL'], dtype='object', name='代号'),\n",
       " Index(['行业', '价格', '交易量'], dtype='object', name='特征'))"
      ]
     },
     "execution_count": 5,
     "metadata": {},
     "output_type": "execute_result"
    }
   ],
   "source": [
    "df.index,df.columns"
   ]
  },
  {
   "cell_type": "code",
   "execution_count": 6,
   "metadata": {},
   "outputs": [
    {
     "data": {
      "text/plain": [
       "MultiIndex(levels=[['JD', 'APPL'], ['行业', '价格', '交易量']],\n",
       "           labels=[[0, 0, 0, 1, 1, 1], [0, 1, 2, 0, 1, 2]],\n",
       "           names=['代号', '特征'])"
      ]
     },
     "execution_count": 6,
     "metadata": {},
     "output_type": "execute_result"
    }
   ],
   "source": [
    "c2i_Series.index"
   ]
  },
  {
   "cell_type": "code",
   "execution_count": 7,
   "metadata": {},
   "outputs": [
    {
     "data": {
      "text/plain": [
       "MultiIndex(levels=[['行业', '价格', '交易量'], ['JD', 'APPL']],\n",
       "           labels=[[0, 0, 1, 1, 2, 2], [0, 1, 0, 1, 0, 1]],\n",
       "           names=['特征', '代号'])"
      ]
     },
     "execution_count": 7,
     "metadata": {},
     "output_type": "execute_result"
    }
   ],
   "source": [
    "i2c_Series.index"
   ]
  },
  {
   "cell_type": "code",
   "execution_count": 8,
   "metadata": {},
   "outputs": [
    {
     "data": {
      "text/plain": [
       "代号    特征 \n",
       "JD    行业           电商\n",
       "      价格        25.95\n",
       "      交易量    27113291\n",
       "APPL  行业           科技\n",
       "      价格       172.97\n",
       "      交易量    18913154\n",
       "dtype: object"
      ]
     },
     "execution_count": 8,
     "metadata": {},
     "output_type": "execute_result"
    }
   ],
   "source": [
    "c2i_Series"
   ]
  },
  {
   "cell_type": "code",
   "execution_count": 9,
   "metadata": {},
   "outputs": [
    {
     "data": {
      "text/plain": [
       "MultiIndex(levels=[['JD', 'APPL'], ['行业', '价格', '交易量']],\n",
       "           labels=[[0, 0, 0, 1, 1, 1], [0, 1, 2, 0, 1, 2]],\n",
       "           names=['代号', '特征'])"
      ]
     },
     "execution_count": 9,
     "metadata": {},
     "output_type": "execute_result"
    }
   ],
   "source": [
    "c2i_Series.index"
   ]
  },
  {
   "cell_type": "markdown",
   "metadata": {},
   "source": [
    "unstack没有层数，默认为最后一层"
   ]
  },
  {
   "cell_type": "code",
   "execution_count": 11,
   "metadata": {},
   "outputs": [
    {
     "data": {
      "text/html": [
       "<div>\n",
       "<style scoped>\n",
       "    .dataframe tbody tr th:only-of-type {\n",
       "        vertical-align: middle;\n",
       "    }\n",
       "\n",
       "    .dataframe tbody tr th {\n",
       "        vertical-align: top;\n",
       "    }\n",
       "\n",
       "    .dataframe thead th {\n",
       "        text-align: right;\n",
       "    }\n",
       "</style>\n",
       "<table border=\"1\" class=\"dataframe\">\n",
       "  <thead>\n",
       "    <tr style=\"text-align: right;\">\n",
       "      <th>特征</th>\n",
       "      <th>行业</th>\n",
       "      <th>价格</th>\n",
       "      <th>交易量</th>\n",
       "    </tr>\n",
       "    <tr>\n",
       "      <th>代号</th>\n",
       "      <th></th>\n",
       "      <th></th>\n",
       "      <th></th>\n",
       "    </tr>\n",
       "  </thead>\n",
       "  <tbody>\n",
       "    <tr>\n",
       "      <th>JD</th>\n",
       "      <td>电商</td>\n",
       "      <td>25.95</td>\n",
       "      <td>27113291</td>\n",
       "    </tr>\n",
       "    <tr>\n",
       "      <th>APPL</th>\n",
       "      <td>科技</td>\n",
       "      <td>172.97</td>\n",
       "      <td>18913154</td>\n",
       "    </tr>\n",
       "  </tbody>\n",
       "</table>\n",
       "</div>"
      ],
      "text/plain": [
       "特征    行业      价格       交易量\n",
       "代号                        \n",
       "JD    电商   25.95  27113291\n",
       "APPL  科技  172.97  18913154"
      ]
     },
     "execution_count": 11,
     "metadata": {},
     "output_type": "execute_result"
    }
   ],
   "source": [
    "c2i_Series.unstack()"
   ]
  },
  {
   "cell_type": "code",
   "execution_count": 12,
   "metadata": {},
   "outputs": [
    {
     "data": {
      "text/html": [
       "<div>\n",
       "<style scoped>\n",
       "    .dataframe tbody tr th:only-of-type {\n",
       "        vertical-align: middle;\n",
       "    }\n",
       "\n",
       "    .dataframe tbody tr th {\n",
       "        vertical-align: top;\n",
       "    }\n",
       "\n",
       "    .dataframe thead th {\n",
       "        text-align: right;\n",
       "    }\n",
       "</style>\n",
       "<table border=\"1\" class=\"dataframe\">\n",
       "  <thead>\n",
       "    <tr style=\"text-align: right;\">\n",
       "      <th>代号</th>\n",
       "      <th>JD</th>\n",
       "      <th>APPL</th>\n",
       "    </tr>\n",
       "    <tr>\n",
       "      <th>特征</th>\n",
       "      <th></th>\n",
       "      <th></th>\n",
       "    </tr>\n",
       "  </thead>\n",
       "  <tbody>\n",
       "    <tr>\n",
       "      <th>行业</th>\n",
       "      <td>电商</td>\n",
       "      <td>科技</td>\n",
       "    </tr>\n",
       "    <tr>\n",
       "      <th>价格</th>\n",
       "      <td>25.95</td>\n",
       "      <td>172.97</td>\n",
       "    </tr>\n",
       "    <tr>\n",
       "      <th>交易量</th>\n",
       "      <td>27113291</td>\n",
       "      <td>18913154</td>\n",
       "    </tr>\n",
       "  </tbody>\n",
       "</table>\n",
       "</div>"
      ],
      "text/plain": [
       "代号         JD      APPL\n",
       "特征                     \n",
       "行业         电商        科技\n",
       "价格      25.95    172.97\n",
       "交易量  27113291  18913154"
      ]
     },
     "execution_count": 12,
     "metadata": {},
     "output_type": "execute_result"
    }
   ],
   "source": [
    "c2i_Series.unstack(0)"
   ]
  },
  {
   "cell_type": "code",
   "execution_count": 13,
   "metadata": {},
   "outputs": [
    {
     "data": {
      "text/html": [
       "<div>\n",
       "<style scoped>\n",
       "    .dataframe tbody tr th:only-of-type {\n",
       "        vertical-align: middle;\n",
       "    }\n",
       "\n",
       "    .dataframe tbody tr th {\n",
       "        vertical-align: top;\n",
       "    }\n",
       "\n",
       "    .dataframe thead th {\n",
       "        text-align: right;\n",
       "    }\n",
       "</style>\n",
       "<table border=\"1\" class=\"dataframe\">\n",
       "  <thead>\n",
       "    <tr style=\"text-align: right;\">\n",
       "      <th>代号</th>\n",
       "      <th>JD</th>\n",
       "      <th>APPL</th>\n",
       "    </tr>\n",
       "    <tr>\n",
       "      <th>特征</th>\n",
       "      <th></th>\n",
       "      <th></th>\n",
       "    </tr>\n",
       "  </thead>\n",
       "  <tbody>\n",
       "    <tr>\n",
       "      <th>行业</th>\n",
       "      <td>电商</td>\n",
       "      <td>科技</td>\n",
       "    </tr>\n",
       "    <tr>\n",
       "      <th>价格</th>\n",
       "      <td>25.95</td>\n",
       "      <td>172.97</td>\n",
       "    </tr>\n",
       "    <tr>\n",
       "      <th>交易量</th>\n",
       "      <td>27113291</td>\n",
       "      <td>18913154</td>\n",
       "    </tr>\n",
       "  </tbody>\n",
       "</table>\n",
       "</div>"
      ],
      "text/plain": [
       "代号         JD      APPL\n",
       "特征                     \n",
       "行业         电商        科技\n",
       "价格      25.95    172.97\n",
       "交易量  27113291  18913154"
      ]
     },
     "execution_count": 13,
     "metadata": {},
     "output_type": "execute_result"
    }
   ],
   "source": [
    "c2i_Series.unstack('代号')"
   ]
  },
  {
   "cell_type": "markdown",
   "metadata": {},
   "source": [
    "含2层行索引，1层列索引的数据帧"
   ]
  },
  {
   "cell_type": "code",
   "execution_count": null,
   "metadata": {},
   "outputs": [],
   "source": [
    "data=[['电商',101550,176.92],\n",
    "     ['电商',175336,25.95],\n",
    "     ['金融',60348,41.79],\n",
    "     ['金融',36600,196.00]]\n",
    "midx=pd.MultiIndex(levels=[['中国','美国'],\n",
    "                           ['BABA','JD','GS','MS']],\n",
    "                   codes=[[0,0,1,1],[0,1,2,3]],\n",
    "                  names=['地区','代号'])\n",
    "mcol=pd.Index(['行业','雇员','价格'],name='特征')\n",
    "df=pd.DataFrame(data,index=midx,columns=mcol)\n",
    "df"
   ]
  },
  {
   "cell_type": "markdown",
   "metadata": {},
   "source": [
    "长宽互转"
   ]
  },
  {
   "cell_type": "code",
   "execution_count": 26,
   "metadata": {},
   "outputs": [
    {
     "data": {
      "text/html": [
       "<div>\n",
       "<style scoped>\n",
       "    .dataframe tbody tr th:only-of-type {\n",
       "        vertical-align: middle;\n",
       "    }\n",
       "\n",
       "    .dataframe tbody tr th {\n",
       "        vertical-align: top;\n",
       "    }\n",
       "\n",
       "    .dataframe thead th {\n",
       "        text-align: right;\n",
       "    }\n",
       "</style>\n",
       "<table border=\"1\" class=\"dataframe\">\n",
       "  <thead>\n",
       "    <tr style=\"text-align: right;\">\n",
       "      <th></th>\n",
       "      <th>Date</th>\n",
       "      <th>Adj_Close</th>\n",
       "      <th>Adj_Volume</th>\n",
       "    </tr>\n",
       "  </thead>\n",
       "  <tbody>\n",
       "    <tr>\n",
       "      <th>0</th>\n",
       "      <td>1993-01-29</td>\n",
       "      <td>28.223927</td>\n",
       "      <td>1003200</td>\n",
       "    </tr>\n",
       "    <tr>\n",
       "      <th>1</th>\n",
       "      <td>1993-02-01</td>\n",
       "      <td>28.424666</td>\n",
       "      <td>480500</td>\n",
       "    </tr>\n",
       "    <tr>\n",
       "      <th>2</th>\n",
       "      <td>1993-02-02</td>\n",
       "      <td>NaN</td>\n",
       "      <td>201300</td>\n",
       "    </tr>\n",
       "    <tr>\n",
       "      <th>3</th>\n",
       "      <td>1993-02-03</td>\n",
       "      <td>28.785997</td>\n",
       "      <td>529400</td>\n",
       "    </tr>\n",
       "    <tr>\n",
       "      <th>4</th>\n",
       "      <td>1993-02-04</td>\n",
       "      <td>28.906440</td>\n",
       "      <td>531500</td>\n",
       "    </tr>\n",
       "    <tr>\n",
       "      <th>5</th>\n",
       "      <td>1993-02-05</td>\n",
       "      <td>28.886334</td>\n",
       "      <td>492100</td>\n",
       "    </tr>\n",
       "    <tr>\n",
       "      <th>6</th>\n",
       "      <td>1993-02-08</td>\n",
       "      <td>28.886334</td>\n",
       "      <td>596100</td>\n",
       "    </tr>\n",
       "    <tr>\n",
       "      <th>7</th>\n",
       "      <td>1993-02-09</td>\n",
       "      <td>28.685595</td>\n",
       "      <td>122100</td>\n",
       "    </tr>\n",
       "    <tr>\n",
       "      <th>8</th>\n",
       "      <td>1993-02-10</td>\n",
       "      <td>28.725743</td>\n",
       "      <td>379600</td>\n",
       "    </tr>\n",
       "    <tr>\n",
       "      <th>9</th>\n",
       "      <td>1993-02-11</td>\n",
       "      <td>28.866292</td>\n",
       "      <td>19500</td>\n",
       "    </tr>\n",
       "    <tr>\n",
       "      <th>10</th>\n",
       "      <td>1993-02-12</td>\n",
       "      <td>28.645447</td>\n",
       "      <td>42500</td>\n",
       "    </tr>\n",
       "    <tr>\n",
       "      <th>11</th>\n",
       "      <td>1993-02-16</td>\n",
       "      <td>27.922786</td>\n",
       "      <td>374800</td>\n",
       "    </tr>\n",
       "    <tr>\n",
       "      <th>12</th>\n",
       "      <td>1993-02-17</td>\n",
       "      <td>27.902744</td>\n",
       "      <td>210900</td>\n",
       "    </tr>\n",
       "    <tr>\n",
       "      <th>13</th>\n",
       "      <td>1993-02-18</td>\n",
       "      <td>27.882638</td>\n",
       "      <td>378100</td>\n",
       "    </tr>\n",
       "    <tr>\n",
       "      <th>14</th>\n",
       "      <td>1993-02-19</td>\n",
       "      <td>27.983040</td>\n",
       "      <td>34900</td>\n",
       "    </tr>\n",
       "    <tr>\n",
       "      <th>15</th>\n",
       "      <td>1993-02-22</td>\n",
       "      <td>28.083377</td>\n",
       "      <td>513600</td>\n",
       "    </tr>\n",
       "    <tr>\n",
       "      <th>16</th>\n",
       "      <td>1993-02-23</td>\n",
       "      <td>28.063336</td>\n",
       "      <td>373700</td>\n",
       "    </tr>\n",
       "    <tr>\n",
       "      <th>17</th>\n",
       "      <td>1993-02-24</td>\n",
       "      <td>28.424666</td>\n",
       "      <td>26300</td>\n",
       "    </tr>\n",
       "    <tr>\n",
       "      <th>18</th>\n",
       "      <td>1993-02-25</td>\n",
       "      <td>28.484856</td>\n",
       "      <td>44500</td>\n",
       "    </tr>\n",
       "    <tr>\n",
       "      <th>19</th>\n",
       "      <td>1993-02-26</td>\n",
       "      <td>28.525004</td>\n",
       "      <td>66200</td>\n",
       "    </tr>\n",
       "    <tr>\n",
       "      <th>20</th>\n",
       "      <td>1993-03-01</td>\n",
       "      <td>28.444708</td>\n",
       "      <td>66500</td>\n",
       "    </tr>\n",
       "    <tr>\n",
       "      <th>21</th>\n",
       "      <td>1993-03-02</td>\n",
       "      <td>28.866292</td>\n",
       "      <td>182400</td>\n",
       "    </tr>\n",
       "    <tr>\n",
       "      <th>22</th>\n",
       "      <td>1993-03-03</td>\n",
       "      <td>28.986736</td>\n",
       "      <td>280100</td>\n",
       "    </tr>\n",
       "    <tr>\n",
       "      <th>23</th>\n",
       "      <td>1993-03-04</td>\n",
       "      <td>28.826144</td>\n",
       "      <td>89500</td>\n",
       "    </tr>\n",
       "    <tr>\n",
       "      <th>24</th>\n",
       "      <td>1993-03-05</td>\n",
       "      <td>28.745849</td>\n",
       "      <td>40000</td>\n",
       "    </tr>\n",
       "    <tr>\n",
       "      <th>25</th>\n",
       "      <td>1993-03-08</td>\n",
       "      <td>29.388214</td>\n",
       "      <td>50800</td>\n",
       "    </tr>\n",
       "    <tr>\n",
       "      <th>26</th>\n",
       "      <td>1993-03-09</td>\n",
       "      <td>29.287812</td>\n",
       "      <td>169300</td>\n",
       "    </tr>\n",
       "    <tr>\n",
       "      <th>27</th>\n",
       "      <td>1993-03-10</td>\n",
       "      <td>29.348066</td>\n",
       "      <td>194400</td>\n",
       "    </tr>\n",
       "    <tr>\n",
       "      <th>28</th>\n",
       "      <td>1993-03-11</td>\n",
       "      <td>29.267771</td>\n",
       "      <td>70900</td>\n",
       "    </tr>\n",
       "    <tr>\n",
       "      <th>29</th>\n",
       "      <td>1993-03-12</td>\n",
       "      <td>28.966630</td>\n",
       "      <td>643600</td>\n",
       "    </tr>\n",
       "    <tr>\n",
       "      <th>...</th>\n",
       "      <td>...</td>\n",
       "      <td>...</td>\n",
       "      <td>...</td>\n",
       "    </tr>\n",
       "    <tr>\n",
       "      <th>6319</th>\n",
       "      <td>2018-03-05</td>\n",
       "      <td>271.105597</td>\n",
       "      <td>97307387</td>\n",
       "    </tr>\n",
       "    <tr>\n",
       "      <th>6320</th>\n",
       "      <td>2018-03-06</td>\n",
       "      <td>271.792848</td>\n",
       "      <td>78407902</td>\n",
       "    </tr>\n",
       "    <tr>\n",
       "      <th>6321</th>\n",
       "      <td>2018-03-07</td>\n",
       "      <td>271.693247</td>\n",
       "      <td>87063502</td>\n",
       "    </tr>\n",
       "    <tr>\n",
       "      <th>6322</th>\n",
       "      <td>2018-03-08</td>\n",
       "      <td>273.007988</td>\n",
       "      <td>66901150</td>\n",
       "    </tr>\n",
       "    <tr>\n",
       "      <th>6323</th>\n",
       "      <td>2018-03-09</td>\n",
       "      <td>277.758984</td>\n",
       "      <td>113625335</td>\n",
       "    </tr>\n",
       "    <tr>\n",
       "      <th>6324</th>\n",
       "      <td>2018-03-12</td>\n",
       "      <td>277.410379</td>\n",
       "      <td>71852943</td>\n",
       "    </tr>\n",
       "    <tr>\n",
       "      <th>6325</th>\n",
       "      <td>2018-03-13</td>\n",
       "      <td>275.617550</td>\n",
       "      <td>91903263</td>\n",
       "    </tr>\n",
       "    <tr>\n",
       "      <th>6326</th>\n",
       "      <td>2018-03-14</td>\n",
       "      <td>274.203207</td>\n",
       "      <td>105895079</td>\n",
       "    </tr>\n",
       "    <tr>\n",
       "      <th>6327</th>\n",
       "      <td>2018-03-15</td>\n",
       "      <td>273.904402</td>\n",
       "      <td>83433038</td>\n",
       "    </tr>\n",
       "    <tr>\n",
       "      <th>6328</th>\n",
       "      <td>2018-03-16</td>\n",
       "      <td>274.200000</td>\n",
       "      <td>100343673</td>\n",
       "    </tr>\n",
       "    <tr>\n",
       "      <th>6329</th>\n",
       "      <td>2018-03-19</td>\n",
       "      <td>270.490000</td>\n",
       "      <td>109208442</td>\n",
       "    </tr>\n",
       "    <tr>\n",
       "      <th>6330</th>\n",
       "      <td>2018-03-20</td>\n",
       "      <td>270.950000</td>\n",
       "      <td>59757271</td>\n",
       "    </tr>\n",
       "    <tr>\n",
       "      <th>6331</th>\n",
       "      <td>2018-03-21</td>\n",
       "      <td>270.430000</td>\n",
       "      <td>78709578</td>\n",
       "    </tr>\n",
       "    <tr>\n",
       "      <th>6332</th>\n",
       "      <td>2018-03-22</td>\n",
       "      <td>263.670000</td>\n",
       "      <td>148785916</td>\n",
       "    </tr>\n",
       "    <tr>\n",
       "      <th>6333</th>\n",
       "      <td>2018-03-23</td>\n",
       "      <td>258.050000</td>\n",
       "      <td>183534751</td>\n",
       "    </tr>\n",
       "    <tr>\n",
       "      <th>6334</th>\n",
       "      <td>2018-03-26</td>\n",
       "      <td>265.110000</td>\n",
       "      <td>141956102</td>\n",
       "    </tr>\n",
       "    <tr>\n",
       "      <th>6335</th>\n",
       "      <td>2018-03-27</td>\n",
       "      <td>260.600000</td>\n",
       "      <td>129941445</td>\n",
       "    </tr>\n",
       "    <tr>\n",
       "      <th>6336</th>\n",
       "      <td>2018-03-28</td>\n",
       "      <td>259.830000</td>\n",
       "      <td>146452306</td>\n",
       "    </tr>\n",
       "    <tr>\n",
       "      <th>6337</th>\n",
       "      <td>2018-03-29</td>\n",
       "      <td>263.150000</td>\n",
       "      <td>124244790</td>\n",
       "    </tr>\n",
       "    <tr>\n",
       "      <th>6338</th>\n",
       "      <td>2018-04-02</td>\n",
       "      <td>257.470000</td>\n",
       "      <td>186286343</td>\n",
       "    </tr>\n",
       "    <tr>\n",
       "      <th>6339</th>\n",
       "      <td>2018-04-03</td>\n",
       "      <td>260.770000</td>\n",
       "      <td>119889222</td>\n",
       "    </tr>\n",
       "    <tr>\n",
       "      <th>6340</th>\n",
       "      <td>2018-04-04</td>\n",
       "      <td>263.560000</td>\n",
       "      <td>123574054</td>\n",
       "    </tr>\n",
       "    <tr>\n",
       "      <th>6341</th>\n",
       "      <td>2018-04-05</td>\n",
       "      <td>265.640000</td>\n",
       "      <td>80993290</td>\n",
       "    </tr>\n",
       "    <tr>\n",
       "      <th>6342</th>\n",
       "      <td>2018-04-06</td>\n",
       "      <td>259.720000</td>\n",
       "      <td>179483634</td>\n",
       "    </tr>\n",
       "    <tr>\n",
       "      <th>6343</th>\n",
       "      <td>2018-04-09</td>\n",
       "      <td>261.000000</td>\n",
       "      <td>105442932</td>\n",
       "    </tr>\n",
       "    <tr>\n",
       "      <th>6344</th>\n",
       "      <td>2018-04-10</td>\n",
       "      <td>265.150000</td>\n",
       "      <td>105383213</td>\n",
       "    </tr>\n",
       "    <tr>\n",
       "      <th>6345</th>\n",
       "      <td>2018-04-11</td>\n",
       "      <td>263.760000</td>\n",
       "      <td>91082611</td>\n",
       "    </tr>\n",
       "    <tr>\n",
       "      <th>6346</th>\n",
       "      <td>2018-04-12</td>\n",
       "      <td>NaN</td>\n",
       "      <td>68648611</td>\n",
       "    </tr>\n",
       "    <tr>\n",
       "      <th>6347</th>\n",
       "      <td>2018-04-13</td>\n",
       "      <td>2651.500000</td>\n",
       "      <td>85043940</td>\n",
       "    </tr>\n",
       "    <tr>\n",
       "      <th>6348</th>\n",
       "      <td>2018-04-16</td>\n",
       "      <td>267.330000</td>\n",
       "      <td>63354866</td>\n",
       "    </tr>\n",
       "  </tbody>\n",
       "</table>\n",
       "<p>6349 rows × 3 columns</p>\n",
       "</div>"
      ],
      "text/plain": [
       "           Date    Adj_Close  Adj_Volume\n",
       "0    1993-01-29    28.223927     1003200\n",
       "1    1993-02-01    28.424666      480500\n",
       "2    1993-02-02          NaN      201300\n",
       "3    1993-02-03    28.785997      529400\n",
       "4    1993-02-04    28.906440      531500\n",
       "5    1993-02-05    28.886334      492100\n",
       "6    1993-02-08    28.886334      596100\n",
       "7    1993-02-09    28.685595      122100\n",
       "8    1993-02-10    28.725743      379600\n",
       "9    1993-02-11    28.866292       19500\n",
       "10   1993-02-12    28.645447       42500\n",
       "11   1993-02-16    27.922786      374800\n",
       "12   1993-02-17    27.902744      210900\n",
       "13   1993-02-18    27.882638      378100\n",
       "14   1993-02-19    27.983040       34900\n",
       "15   1993-02-22    28.083377      513600\n",
       "16   1993-02-23    28.063336      373700\n",
       "17   1993-02-24    28.424666       26300\n",
       "18   1993-02-25    28.484856       44500\n",
       "19   1993-02-26    28.525004       66200\n",
       "20   1993-03-01    28.444708       66500\n",
       "21   1993-03-02    28.866292      182400\n",
       "22   1993-03-03    28.986736      280100\n",
       "23   1993-03-04    28.826144       89500\n",
       "24   1993-03-05    28.745849       40000\n",
       "25   1993-03-08    29.388214       50800\n",
       "26   1993-03-09    29.287812      169300\n",
       "27   1993-03-10    29.348066      194400\n",
       "28   1993-03-11    29.267771       70900\n",
       "29   1993-03-12    28.966630      643600\n",
       "...         ...          ...         ...\n",
       "6319 2018-03-05   271.105597    97307387\n",
       "6320 2018-03-06   271.792848    78407902\n",
       "6321 2018-03-07   271.693247    87063502\n",
       "6322 2018-03-08   273.007988    66901150\n",
       "6323 2018-03-09   277.758984   113625335\n",
       "6324 2018-03-12   277.410379    71852943\n",
       "6325 2018-03-13   275.617550    91903263\n",
       "6326 2018-03-14   274.203207   105895079\n",
       "6327 2018-03-15   273.904402    83433038\n",
       "6328 2018-03-16   274.200000   100343673\n",
       "6329 2018-03-19   270.490000   109208442\n",
       "6330 2018-03-20   270.950000    59757271\n",
       "6331 2018-03-21   270.430000    78709578\n",
       "6332 2018-03-22   263.670000   148785916\n",
       "6333 2018-03-23   258.050000   183534751\n",
       "6334 2018-03-26   265.110000   141956102\n",
       "6335 2018-03-27   260.600000   129941445\n",
       "6336 2018-03-28   259.830000   146452306\n",
       "6337 2018-03-29   263.150000   124244790\n",
       "6338 2018-04-02   257.470000   186286343\n",
       "6339 2018-04-03   260.770000   119889222\n",
       "6340 2018-04-04   263.560000   123574054\n",
       "6341 2018-04-05   265.640000    80993290\n",
       "6342 2018-04-06   259.720000   179483634\n",
       "6343 2018-04-09   261.000000   105442932\n",
       "6344 2018-04-10   265.150000   105383213\n",
       "6345 2018-04-11   263.760000    91082611\n",
       "6346 2018-04-12          NaN    68648611\n",
       "6347 2018-04-13  2651.500000    85043940\n",
       "6348 2018-04-16   267.330000    63354866\n",
       "\n",
       "[6349 rows x 3 columns]"
      ]
     },
     "execution_count": 26,
     "metadata": {},
     "output_type": "execute_result"
    }
   ],
   "source": [
    "data=pd.read_csv('C:\\\\Users\\\\usere\\\\Desktop\\\\SPY.csv',parse_dates=[0],dayfirst=True)\n",
    "data"
   ]
  },
  {
   "cell_type": "markdown",
   "metadata": {},
   "source": [
    "对于旧表数据帧df,用它若干列标签作为新表的index、columns、values\n",
    "\n",
    "pd.pivot=(index=df_col_label_1,columns=df_col_label_2,values=df_col_label_3)"
   ]
  },
  {
   "cell_type": "code",
   "execution_count": null,
   "metadata": {},
   "outputs": [],
   "source": [
    "close_price=data.pivot(index='Date',columns='Sumbol',values='Adj Close')\n",
    "close_price"
   ]
  },
  {
   "cell_type": "code",
   "execution_count": null,
   "metadata": {},
   "outputs": [],
   "source": [
    "data.pivot(index='Date',columns='Symbol',values=['Adj Close','Volume'])"
   ]
  },
  {
   "cell_type": "markdown",
   "metadata": {},
   "source": [
    "melt()函数实际将旧表转化为id-variable类型的数据帧"
   ]
  },
  {
   "cell_type": "code",
   "execution_count": null,
   "metadata": {},
   "outputs": [],
   "source": [
    "melted_data=pd.melt(price_df,id_vars=['Symbol'])\n",
    "melted_data.head(5).append(melted_data.tail(5))"
   ]
  },
  {
   "cell_type": "code",
   "execution_count": null,
   "metadata": {},
   "outputs": [],
   "source": [
    "melted_data=pd.melt(price_df,id_vars=['Symbol'],var_name='OHLCV',value_name='Value')\n",
    "melted_data.head(5).append(melted_data.tail(5))"
   ]
  },
  {
   "cell_type": "code",
   "execution_count": null,
   "metadata": {},
   "outputs": [],
   "source": [
    "melted_data=pd.melt(price_df,id_vars=['Data','Symbol'],var_name='OHLCV',value_name='Value')\n",
    "melted_data.head(5).append(melted_data.tail(5))"
   ]
  },
  {
   "cell_type": "markdown",
   "metadata": {},
   "source": [
    "数据分析"
   ]
  },
  {
   "cell_type": "code",
   "execution_count": 27,
   "metadata": {},
   "outputs": [
    {
     "data": {
      "text/html": [
       "<div>\n",
       "<style scoped>\n",
       "    .dataframe tbody tr th:only-of-type {\n",
       "        vertical-align: middle;\n",
       "    }\n",
       "\n",
       "    .dataframe tbody tr th {\n",
       "        vertical-align: top;\n",
       "    }\n",
       "\n",
       "    .dataframe thead th {\n",
       "        text-align: right;\n",
       "    }\n",
       "</style>\n",
       "<table border=\"1\" class=\"dataframe\">\n",
       "  <thead>\n",
       "    <tr style=\"text-align: right;\">\n",
       "      <th></th>\n",
       "      <th>Adj_Close</th>\n",
       "      <th>Adj_Volume</th>\n",
       "    </tr>\n",
       "  </thead>\n",
       "  <tbody>\n",
       "    <tr>\n",
       "      <th>count</th>\n",
       "      <td>6347.000000</td>\n",
       "      <td>6.349000e+03</td>\n",
       "    </tr>\n",
       "    <tr>\n",
       "      <th>mean</th>\n",
       "      <td>108.171940</td>\n",
       "      <td>8.439630e+07</td>\n",
       "    </tr>\n",
       "    <tr>\n",
       "      <th>std</th>\n",
       "      <td>64.541711</td>\n",
       "      <td>1.003193e+08</td>\n",
       "    </tr>\n",
       "    <tr>\n",
       "      <th>min</th>\n",
       "      <td>27.882638</td>\n",
       "      <td>5.200000e+03</td>\n",
       "    </tr>\n",
       "    <tr>\n",
       "      <th>25%</th>\n",
       "      <td>73.212058</td>\n",
       "      <td>6.405600e+06</td>\n",
       "    </tr>\n",
       "    <tr>\n",
       "      <th>50%</th>\n",
       "      <td>97.311651</td>\n",
       "      <td>5.469196e+07</td>\n",
       "    </tr>\n",
       "    <tr>\n",
       "      <th>75%</th>\n",
       "      <td>124.149164</td>\n",
       "      <td>1.250593e+08</td>\n",
       "    </tr>\n",
       "    <tr>\n",
       "      <th>max</th>\n",
       "      <td>2651.500000</td>\n",
       "      <td>8.710263e+08</td>\n",
       "    </tr>\n",
       "  </tbody>\n",
       "</table>\n",
       "</div>"
      ],
      "text/plain": [
       "         Adj_Close    Adj_Volume\n",
       "count  6347.000000  6.349000e+03\n",
       "mean    108.171940  8.439630e+07\n",
       "std      64.541711  1.003193e+08\n",
       "min      27.882638  5.200000e+03\n",
       "25%      73.212058  6.405600e+06\n",
       "50%      97.311651  5.469196e+07\n",
       "75%     124.149164  1.250593e+08\n",
       "max    2651.500000  8.710263e+08"
      ]
     },
     "execution_count": 27,
     "metadata": {},
     "output_type": "execute_result"
    }
   ],
   "source": [
    "data.describe()"
   ]
  },
  {
   "cell_type": "code",
   "execution_count": 29,
   "metadata": {},
   "outputs": [
    {
     "data": {
      "text/html": [
       "<div>\n",
       "<style scoped>\n",
       "    .dataframe tbody tr th:only-of-type {\n",
       "        vertical-align: middle;\n",
       "    }\n",
       "\n",
       "    .dataframe tbody tr th {\n",
       "        vertical-align: top;\n",
       "    }\n",
       "\n",
       "    .dataframe thead th {\n",
       "        text-align: right;\n",
       "    }\n",
       "</style>\n",
       "<table border=\"1\" class=\"dataframe\">\n",
       "  <thead>\n",
       "    <tr style=\"text-align: right;\">\n",
       "      <th></th>\n",
       "      <th>Adj_Close</th>\n",
       "      <th>Adj_Volume</th>\n",
       "    </tr>\n",
       "  </thead>\n",
       "  <tbody>\n",
       "    <tr>\n",
       "      <th>Adj_Close</th>\n",
       "      <td>1.000000</td>\n",
       "      <td>0.232506</td>\n",
       "    </tr>\n",
       "    <tr>\n",
       "      <th>Adj_Volume</th>\n",
       "      <td>0.232506</td>\n",
       "      <td>1.000000</td>\n",
       "    </tr>\n",
       "  </tbody>\n",
       "</table>\n",
       "</div>"
      ],
      "text/plain": [
       "            Adj_Close  Adj_Volume\n",
       "Adj_Close    1.000000    0.232506\n",
       "Adj_Volume   0.232506    1.000000"
      ]
     },
     "execution_count": 29,
     "metadata": {},
     "output_type": "execute_result"
    }
   ],
   "source": [
    "data.corr()"
   ]
  },
  {
   "cell_type": "markdown",
   "metadata": {},
   "source": [
    "transform"
   ]
  },
  {
   "cell_type": "code",
   "execution_count": 30,
   "metadata": {},
   "outputs": [
    {
     "data": {
      "text/html": [
       "<div>\n",
       "<style scoped>\n",
       "    .dataframe tbody tr th:only-of-type {\n",
       "        vertical-align: middle;\n",
       "    }\n",
       "\n",
       "    .dataframe tbody tr th {\n",
       "        vertical-align: top;\n",
       "    }\n",
       "\n",
       "    .dataframe thead th {\n",
       "        text-align: right;\n",
       "    }\n",
       "</style>\n",
       "<table border=\"1\" class=\"dataframe\">\n",
       "  <thead>\n",
       "    <tr style=\"text-align: right;\">\n",
       "      <th></th>\n",
       "      <th>a</th>\n",
       "      <th>b</th>\n",
       "      <th>c</th>\n",
       "      <th>d</th>\n",
       "      <th>e</th>\n",
       "    </tr>\n",
       "  </thead>\n",
       "  <tbody>\n",
       "    <tr>\n",
       "      <th>Joe</th>\n",
       "      <td>0.073973</td>\n",
       "      <td>-0.309852</td>\n",
       "      <td>2.280568</td>\n",
       "      <td>0.396707</td>\n",
       "      <td>0.005210</td>\n",
       "    </tr>\n",
       "    <tr>\n",
       "      <th>Steve</th>\n",
       "      <td>-0.223299</td>\n",
       "      <td>-1.324099</td>\n",
       "      <td>-0.350161</td>\n",
       "      <td>1.656904</td>\n",
       "      <td>-0.826031</td>\n",
       "    </tr>\n",
       "    <tr>\n",
       "      <th>Wes</th>\n",
       "      <td>-0.191647</td>\n",
       "      <td>-1.175084</td>\n",
       "      <td>0.471405</td>\n",
       "      <td>-1.006328</td>\n",
       "      <td>0.832946</td>\n",
       "    </tr>\n",
       "    <tr>\n",
       "      <th>Jim</th>\n",
       "      <td>-0.862339</td>\n",
       "      <td>-0.775075</td>\n",
       "      <td>-1.012267</td>\n",
       "      <td>0.849138</td>\n",
       "      <td>0.260961</td>\n",
       "    </tr>\n",
       "    <tr>\n",
       "      <th>Travis</th>\n",
       "      <td>-1.206861</td>\n",
       "      <td>0.227902</td>\n",
       "      <td>0.773058</td>\n",
       "      <td>-1.456306</td>\n",
       "      <td>0.010327</td>\n",
       "    </tr>\n",
       "  </tbody>\n",
       "</table>\n",
       "</div>"
      ],
      "text/plain": [
       "               a         b         c         d         e\n",
       "Joe     0.073973 -0.309852  2.280568  0.396707  0.005210\n",
       "Steve  -0.223299 -1.324099 -0.350161  1.656904 -0.826031\n",
       "Wes    -0.191647 -1.175084  0.471405 -1.006328  0.832946\n",
       "Jim    -0.862339 -0.775075 -1.012267  0.849138  0.260961\n",
       "Travis -1.206861  0.227902  0.773058 -1.456306  0.010327"
      ]
     },
     "execution_count": 30,
     "metadata": {},
     "output_type": "execute_result"
    }
   ],
   "source": [
    "people=pd.DataFrame(np.random.randn(5,5),columns=list('abcde'),index=['Joe','Steve','Wes','Jim','Travis'])\n",
    "people"
   ]
  },
  {
   "cell_type": "code",
   "execution_count": 32,
   "metadata": {},
   "outputs": [
    {
     "data": {
      "text/html": [
       "<div>\n",
       "<style scoped>\n",
       "    .dataframe tbody tr th:only-of-type {\n",
       "        vertical-align: middle;\n",
       "    }\n",
       "\n",
       "    .dataframe tbody tr th {\n",
       "        vertical-align: top;\n",
       "    }\n",
       "\n",
       "    .dataframe thead th {\n",
       "        text-align: right;\n",
       "    }\n",
       "</style>\n",
       "<table border=\"1\" class=\"dataframe\">\n",
       "  <thead>\n",
       "    <tr style=\"text-align: right;\">\n",
       "      <th></th>\n",
       "      <th>key1</th>\n",
       "      <th>key2</th>\n",
       "      <th>data1</th>\n",
       "      <th>data2</th>\n",
       "    </tr>\n",
       "  </thead>\n",
       "  <tbody>\n",
       "    <tr>\n",
       "      <th>0</th>\n",
       "      <td>a</td>\n",
       "      <td>one</td>\n",
       "      <td>-1.782700</td>\n",
       "      <td>-1.299684</td>\n",
       "    </tr>\n",
       "    <tr>\n",
       "      <th>1</th>\n",
       "      <td>b</td>\n",
       "      <td>two</td>\n",
       "      <td>-1.727478</td>\n",
       "      <td>-2.030433</td>\n",
       "    </tr>\n",
       "    <tr>\n",
       "      <th>2</th>\n",
       "      <td>a</td>\n",
       "      <td>one</td>\n",
       "      <td>1.863008</td>\n",
       "      <td>1.277376</td>\n",
       "    </tr>\n",
       "    <tr>\n",
       "      <th>3</th>\n",
       "      <td>b</td>\n",
       "      <td>two</td>\n",
       "      <td>1.124835</td>\n",
       "      <td>-0.223958</td>\n",
       "    </tr>\n",
       "    <tr>\n",
       "      <th>4</th>\n",
       "      <td>a</td>\n",
       "      <td>one</td>\n",
       "      <td>-0.102967</td>\n",
       "      <td>-0.695412</td>\n",
       "    </tr>\n",
       "  </tbody>\n",
       "</table>\n",
       "</div>"
      ],
      "text/plain": [
       "  key1 key2     data1     data2\n",
       "0    a  one -1.782700 -1.299684\n",
       "1    b  two -1.727478 -2.030433\n",
       "2    a  one  1.863008  1.277376\n",
       "3    b  two  1.124835 -0.223958\n",
       "4    a  one -0.102967 -0.695412"
      ]
     },
     "execution_count": 32,
     "metadata": {},
     "output_type": "execute_result"
    }
   ],
   "source": [
    "df=pd.DataFrame({'key1':list('ababa'),\n",
    "                 'key2':['one','two','one','two','one'],\n",
    "                'data1':np.random.randn(5),\n",
    "                'data2':np.random.randn(5)})\n",
    "df"
   ]
  },
  {
   "cell_type": "code",
   "execution_count": 42,
   "metadata": {},
   "outputs": [
    {
     "data": {
      "text/plain": [
       "key1\n",
       "a   -0.007553\n",
       "b   -0.301322\n",
       "Name: data1, dtype: float64"
      ]
     },
     "execution_count": 42,
     "metadata": {},
     "output_type": "execute_result"
    }
   ],
   "source": [
    "grouped=df['data1'].groupby(df['key1'])\n",
    "grouped.mean()"
   ]
  },
  {
   "cell_type": "code",
   "execution_count": 43,
   "metadata": {},
   "outputs": [],
   "source": [
    "states=np.array(['Ohio','California','California','Ohio','Ohio'])\n",
    "years=np.array([2005,2005,2006,2005,2006])"
   ]
  },
  {
   "cell_type": "code",
   "execution_count": 48,
   "metadata": {},
   "outputs": [
    {
     "data": {
      "text/plain": [
       "California  2005   -1.727478\n",
       "            2006    1.863008\n",
       "Ohio        2005   -0.328933\n",
       "            2006   -0.102967\n",
       "Name: data1, dtype: float64"
      ]
     },
     "execution_count": 48,
     "metadata": {},
     "output_type": "execute_result"
    }
   ],
   "source": [
    "df['data1'].groupby([states,years]).mean()"
   ]
  },
  {
   "cell_type": "code",
   "execution_count": 49,
   "metadata": {},
   "outputs": [
    {
     "data": {
      "text/html": [
       "<div>\n",
       "<style scoped>\n",
       "    .dataframe tbody tr th:only-of-type {\n",
       "        vertical-align: middle;\n",
       "    }\n",
       "\n",
       "    .dataframe tbody tr th {\n",
       "        vertical-align: top;\n",
       "    }\n",
       "\n",
       "    .dataframe thead th {\n",
       "        text-align: right;\n",
       "    }\n",
       "</style>\n",
       "<table border=\"1\" class=\"dataframe\">\n",
       "  <thead>\n",
       "    <tr style=\"text-align: right;\">\n",
       "      <th></th>\n",
       "      <th>data1</th>\n",
       "      <th>data2</th>\n",
       "    </tr>\n",
       "    <tr>\n",
       "      <th>key1</th>\n",
       "      <th></th>\n",
       "      <th></th>\n",
       "    </tr>\n",
       "  </thead>\n",
       "  <tbody>\n",
       "    <tr>\n",
       "      <th>a</th>\n",
       "      <td>-0.007553</td>\n",
       "      <td>-0.239240</td>\n",
       "    </tr>\n",
       "    <tr>\n",
       "      <th>b</th>\n",
       "      <td>-0.301322</td>\n",
       "      <td>-1.127195</td>\n",
       "    </tr>\n",
       "  </tbody>\n",
       "</table>\n",
       "</div>"
      ],
      "text/plain": [
       "         data1     data2\n",
       "key1                    \n",
       "a    -0.007553 -0.239240\n",
       "b    -0.301322 -1.127195"
      ]
     },
     "execution_count": 49,
     "metadata": {},
     "output_type": "execute_result"
    }
   ],
   "source": [
    "df.groupby('key1').mean()"
   ]
  },
  {
   "cell_type": "markdown",
   "metadata": {},
   "source": [
    "对分组进行迭代"
   ]
  },
  {
   "cell_type": "code",
   "execution_count": 50,
   "metadata": {},
   "outputs": [
    {
     "name": "stdout",
     "output_type": "stream",
     "text": [
      "a   key1 key2     data1     data2\n",
      "0    a  one -1.782700 -1.299684\n",
      "2    a  one  1.863008  1.277376\n",
      "4    a  one -0.102967 -0.695412\n",
      "b   key1 key2     data1     data2\n",
      "1    b  two -1.727478 -2.030433\n",
      "3    b  two  1.124835 -0.223958\n"
     ]
    }
   ],
   "source": [
    "for name,group in df.groupby('key1'):\n",
    "    print(name,group)"
   ]
  },
  {
   "cell_type": "code",
   "execution_count": 52,
   "metadata": {},
   "outputs": [
    {
     "data": {
      "text/plain": [
       "{'a':   key1 key2     data1     data2\n",
       " 0    a  one -1.782700 -1.299684\n",
       " 2    a  one  1.863008  1.277376\n",
       " 4    a  one -0.102967 -0.695412, 'b':   key1 key2     data1     data2\n",
       " 1    b  two -1.727478 -2.030433\n",
       " 3    b  two  1.124835 -0.223958}"
      ]
     },
     "execution_count": 52,
     "metadata": {},
     "output_type": "execute_result"
    }
   ],
   "source": [
    "#转化为字典\n",
    "piece=dict(list(df.groupby('key1')))\n",
    "piece"
   ]
  },
  {
   "cell_type": "code",
   "execution_count": 54,
   "metadata": {},
   "outputs": [
    {
     "data": {
      "text/html": [
       "<div>\n",
       "<style scoped>\n",
       "    .dataframe tbody tr th:only-of-type {\n",
       "        vertical-align: middle;\n",
       "    }\n",
       "\n",
       "    .dataframe tbody tr th {\n",
       "        vertical-align: top;\n",
       "    }\n",
       "\n",
       "    .dataframe thead th {\n",
       "        text-align: right;\n",
       "    }\n",
       "</style>\n",
       "<table border=\"1\" class=\"dataframe\">\n",
       "  <thead>\n",
       "    <tr style=\"text-align: right;\">\n",
       "      <th></th>\n",
       "      <th>key1</th>\n",
       "      <th>key2</th>\n",
       "      <th>data1</th>\n",
       "      <th>data2</th>\n",
       "    </tr>\n",
       "  </thead>\n",
       "  <tbody>\n",
       "    <tr>\n",
       "      <th>0</th>\n",
       "      <td>a</td>\n",
       "      <td>one</td>\n",
       "      <td>-1.782700</td>\n",
       "      <td>-1.299684</td>\n",
       "    </tr>\n",
       "    <tr>\n",
       "      <th>2</th>\n",
       "      <td>a</td>\n",
       "      <td>one</td>\n",
       "      <td>1.863008</td>\n",
       "      <td>1.277376</td>\n",
       "    </tr>\n",
       "    <tr>\n",
       "      <th>4</th>\n",
       "      <td>a</td>\n",
       "      <td>one</td>\n",
       "      <td>-0.102967</td>\n",
       "      <td>-0.695412</td>\n",
       "    </tr>\n",
       "  </tbody>\n",
       "</table>\n",
       "</div>"
      ],
      "text/plain": [
       "  key1 key2     data1     data2\n",
       "0    a  one -1.782700 -1.299684\n",
       "2    a  one  1.863008  1.277376\n",
       "4    a  one -0.102967 -0.695412"
      ]
     },
     "execution_count": 54,
     "metadata": {},
     "output_type": "execute_result"
    }
   ],
   "source": [
    "value=piece['a']\n",
    "value"
   ]
  },
  {
   "cell_type": "code",
   "execution_count": 55,
   "metadata": {},
   "outputs": [
    {
     "data": {
      "text/plain": [
       "key1      object\n",
       "key2      object\n",
       "data1    float64\n",
       "data2    float64\n",
       "dtype: object"
      ]
     },
     "execution_count": 55,
     "metadata": {},
     "output_type": "execute_result"
    }
   ],
   "source": [
    "df.dtypes"
   ]
  },
  {
   "cell_type": "code",
   "execution_count": 59,
   "metadata": {},
   "outputs": [
    {
     "data": {
      "text/plain": [
       "{dtype('float64'):       data1     data2\n",
       " 0 -1.782700 -1.299684\n",
       " 1 -1.727478 -2.030433\n",
       " 2  1.863008  1.277376\n",
       " 3  1.124835 -0.223958\n",
       " 4 -0.102967 -0.695412, dtype('O'):   key1 key2\n",
       " 0    a  one\n",
       " 1    b  two\n",
       " 2    a  one\n",
       " 3    b  two\n",
       " 4    a  one}"
      ]
     },
     "execution_count": 59,
     "metadata": {},
     "output_type": "execute_result"
    }
   ],
   "source": [
    "grouped=df.groupby(df.dtypes,axis=1)\n",
    "value=dict(list(grouped))\n",
    "value"
   ]
  },
  {
   "cell_type": "code",
   "execution_count": 61,
   "metadata": {},
   "outputs": [
    {
     "data": {
      "text/html": [
       "<div>\n",
       "<style scoped>\n",
       "    .dataframe tbody tr th:only-of-type {\n",
       "        vertical-align: middle;\n",
       "    }\n",
       "\n",
       "    .dataframe tbody tr th {\n",
       "        vertical-align: top;\n",
       "    }\n",
       "\n",
       "    .dataframe thead th {\n",
       "        text-align: right;\n",
       "    }\n",
       "</style>\n",
       "<table border=\"1\" class=\"dataframe\">\n",
       "  <thead>\n",
       "    <tr style=\"text-align: right;\">\n",
       "      <th></th>\n",
       "      <th></th>\n",
       "      <th>data2</th>\n",
       "    </tr>\n",
       "    <tr>\n",
       "      <th>key1</th>\n",
       "      <th>key2</th>\n",
       "      <th></th>\n",
       "    </tr>\n",
       "  </thead>\n",
       "  <tbody>\n",
       "    <tr>\n",
       "      <th>a</th>\n",
       "      <th>one</th>\n",
       "      <td>-0.239240</td>\n",
       "    </tr>\n",
       "    <tr>\n",
       "      <th>b</th>\n",
       "      <th>two</th>\n",
       "      <td>-1.127195</td>\n",
       "    </tr>\n",
       "  </tbody>\n",
       "</table>\n",
       "</div>"
      ],
      "text/plain": [
       "              data2\n",
       "key1 key2          \n",
       "a    one  -0.239240\n",
       "b    two  -1.127195"
      ]
     },
     "execution_count": 61,
     "metadata": {},
     "output_type": "execute_result"
    }
   ],
   "source": [
    "#对df进行'key1'，'key2'的两次分组，然后取data2的数据，对两次细分的分组数据取均值\n",
    "value=df.groupby(['key1','key2'])[['data2']].mean()\n",
    "value"
   ]
  },
  {
   "cell_type": "code",
   "execution_count": 62,
   "metadata": {},
   "outputs": [
    {
     "data": {
      "text/html": [
       "<div>\n",
       "<style scoped>\n",
       "    .dataframe tbody tr th:only-of-type {\n",
       "        vertical-align: middle;\n",
       "    }\n",
       "\n",
       "    .dataframe tbody tr th {\n",
       "        vertical-align: top;\n",
       "    }\n",
       "\n",
       "    .dataframe thead th {\n",
       "        text-align: right;\n",
       "    }\n",
       "</style>\n",
       "<table border=\"1\" class=\"dataframe\">\n",
       "  <thead>\n",
       "    <tr style=\"text-align: right;\">\n",
       "      <th></th>\n",
       "      <th>data1</th>\n",
       "      <th>data2</th>\n",
       "    </tr>\n",
       "  </thead>\n",
       "  <tbody>\n",
       "    <tr>\n",
       "      <th>0</th>\n",
       "      <td>-0.007553</td>\n",
       "      <td>-0.239240</td>\n",
       "    </tr>\n",
       "    <tr>\n",
       "      <th>1</th>\n",
       "      <td>-0.301322</td>\n",
       "      <td>-1.127195</td>\n",
       "    </tr>\n",
       "    <tr>\n",
       "      <th>2</th>\n",
       "      <td>-0.007553</td>\n",
       "      <td>-0.239240</td>\n",
       "    </tr>\n",
       "    <tr>\n",
       "      <th>3</th>\n",
       "      <td>-0.301322</td>\n",
       "      <td>-1.127195</td>\n",
       "    </tr>\n",
       "    <tr>\n",
       "      <th>4</th>\n",
       "      <td>-0.007553</td>\n",
       "      <td>-0.239240</td>\n",
       "    </tr>\n",
       "  </tbody>\n",
       "</table>\n",
       "</div>"
      ],
      "text/plain": [
       "      data1     data2\n",
       "0 -0.007553 -0.239240\n",
       "1 -0.301322 -1.127195\n",
       "2 -0.007553 -0.239240\n",
       "3 -0.301322 -1.127195\n",
       "4 -0.007553 -0.239240"
      ]
     },
     "execution_count": 62,
     "metadata": {},
     "output_type": "execute_result"
    }
   ],
   "source": [
    "df.groupby('key1').transform(np.mean)"
   ]
  },
  {
   "cell_type": "code",
   "execution_count": 64,
   "metadata": {},
   "outputs": [
    {
     "data": {
      "text/html": [
       "<div>\n",
       "<style scoped>\n",
       "    .dataframe tbody tr th:only-of-type {\n",
       "        vertical-align: middle;\n",
       "    }\n",
       "\n",
       "    .dataframe tbody tr th {\n",
       "        vertical-align: top;\n",
       "    }\n",
       "\n",
       "    .dataframe thead th {\n",
       "        text-align: right;\n",
       "    }\n",
       "</style>\n",
       "<table border=\"1\" class=\"dataframe\">\n",
       "  <thead>\n",
       "    <tr style=\"text-align: right;\">\n",
       "      <th></th>\n",
       "      <th>key</th>\n",
       "      <th>data1</th>\n",
       "      <th>data2</th>\n",
       "    </tr>\n",
       "  </thead>\n",
       "  <tbody>\n",
       "    <tr>\n",
       "      <th>0</th>\n",
       "      <td>A</td>\n",
       "      <td>0</td>\n",
       "      <td>5</td>\n",
       "    </tr>\n",
       "    <tr>\n",
       "      <th>1</th>\n",
       "      <td>B</td>\n",
       "      <td>1</td>\n",
       "      <td>0</td>\n",
       "    </tr>\n",
       "    <tr>\n",
       "      <th>2</th>\n",
       "      <td>C</td>\n",
       "      <td>2</td>\n",
       "      <td>3</td>\n",
       "    </tr>\n",
       "    <tr>\n",
       "      <th>3</th>\n",
       "      <td>A</td>\n",
       "      <td>3</td>\n",
       "      <td>3</td>\n",
       "    </tr>\n",
       "    <tr>\n",
       "      <th>4</th>\n",
       "      <td>B</td>\n",
       "      <td>4</td>\n",
       "      <td>7</td>\n",
       "    </tr>\n",
       "    <tr>\n",
       "      <th>5</th>\n",
       "      <td>C</td>\n",
       "      <td>5</td>\n",
       "      <td>9</td>\n",
       "    </tr>\n",
       "  </tbody>\n",
       "</table>\n",
       "</div>"
      ],
      "text/plain": [
       "  key  data1  data2\n",
       "0   A      0      5\n",
       "1   B      1      0\n",
       "2   C      2      3\n",
       "3   A      3      3\n",
       "4   B      4      7\n",
       "5   C      5      9"
      ]
     },
     "execution_count": 64,
     "metadata": {},
     "output_type": "execute_result"
    }
   ],
   "source": [
    "rng=np.random.RandomState(0)\n",
    "df=pd.DataFrame({'key':list('ABCABC'),'data1':range(6),'data2':rng.randint(0,10,6)})\n",
    "df"
   ]
  },
  {
   "cell_type": "code",
   "execution_count": 67,
   "metadata": {},
   "outputs": [
    {
     "name": "stdout",
     "output_type": "stream",
     "text": [
      "{'A':   key  data1  data2\n",
      "0   A      0      5\n",
      "3   A      3      3, 'B':   key  data1  data2\n",
      "1   B      1      0\n",
      "4   B      4      7, 'C':   key  data1  data2\n",
      "2   C      2      3\n",
      "5   C      5      9}\n"
     ]
    }
   ],
   "source": [
    "grouped=df.groupby('key')\n",
    "value=dict(list(grouped))\n",
    "print(value)"
   ]
  },
  {
   "cell_type": "code",
   "execution_count": 68,
   "metadata": {},
   "outputs": [
    {
     "name": "stdout",
     "output_type": "stream",
     "text": [
      "A\n",
      "  key  data1  data2\n",
      "0   A      0      5\n",
      "3   A      3      3\n",
      "B\n",
      "  key  data1  data2\n",
      "1   B      1      0\n",
      "4   B      4      7\n",
      "C\n",
      "  key  data1  data2\n",
      "2   C      2      3\n",
      "5   C      5      9\n"
     ]
    }
   ],
   "source": [
    "for (key,group) in grouped:\n",
    "    print(key)\n",
    "    print(group)"
   ]
  },
  {
   "cell_type": "code",
   "execution_count": 69,
   "metadata": {},
   "outputs": [
    {
     "data": {
      "text/html": [
       "<div>\n",
       "<style scoped>\n",
       "    .dataframe tbody tr th:only-of-type {\n",
       "        vertical-align: middle;\n",
       "    }\n",
       "\n",
       "    .dataframe tbody tr th {\n",
       "        vertical-align: top;\n",
       "    }\n",
       "\n",
       "    .dataframe thead th {\n",
       "        text-align: right;\n",
       "    }\n",
       "</style>\n",
       "<table border=\"1\" class=\"dataframe\">\n",
       "  <thead>\n",
       "    <tr style=\"text-align: right;\">\n",
       "      <th></th>\n",
       "      <th>key</th>\n",
       "      <th>data1</th>\n",
       "      <th>data2</th>\n",
       "    </tr>\n",
       "    <tr>\n",
       "      <th>key</th>\n",
       "      <th></th>\n",
       "      <th></th>\n",
       "      <th></th>\n",
       "    </tr>\n",
       "  </thead>\n",
       "  <tbody>\n",
       "    <tr>\n",
       "      <th>A</th>\n",
       "      <td>AA</td>\n",
       "      <td>3</td>\n",
       "      <td>8</td>\n",
       "    </tr>\n",
       "    <tr>\n",
       "      <th>B</th>\n",
       "      <td>BB</td>\n",
       "      <td>5</td>\n",
       "      <td>7</td>\n",
       "    </tr>\n",
       "    <tr>\n",
       "      <th>C</th>\n",
       "      <td>CC</td>\n",
       "      <td>7</td>\n",
       "      <td>12</td>\n",
       "    </tr>\n",
       "  </tbody>\n",
       "</table>\n",
       "</div>"
      ],
      "text/plain": [
       "    key  data1  data2\n",
       "key                  \n",
       "A    AA      3      8\n",
       "B    BB      5      7\n",
       "C    CC      7     12"
      ]
     },
     "execution_count": 69,
     "metadata": {},
     "output_type": "execute_result"
    }
   ],
   "source": [
    "grouped.apply(sum)"
   ]
  },
  {
   "cell_type": "code",
   "execution_count": 70,
   "metadata": {},
   "outputs": [
    {
     "name": "stdout",
     "output_type": "stream",
     "text": [
      "第一种分组结果：\n",
      "False\n",
      "   A  B  C   D   E   F   G\n",
      "1  7  8  9  10  11  12  13\n",
      "True\n",
      "    A   B   C   D   E   F   G\n",
      "0   0   1   2   3   4   5   6\n",
      "2  14  15  16  17  18  19  20\n",
      "第二种分组结果：\n",
      "False\n",
      "    A   B   C   D   E   F   G\n",
      "0   0   1   2   3   4   5   6\n",
      "2  14  15  16  17  18  19  20\n",
      "True\n",
      "   A  B  C   D   E   F   G\n",
      "1  7  8  9  10  11  12  13\n"
     ]
    }
   ],
   "source": [
    "import pandas as pd\n",
    "import numpy as np\n",
    "def odd(num):\n",
    "    return (num%2)==0\n",
    "data=pd.DataFrame(np.arange(21).reshape(3,7),columns=list('ABCDEFG'))\n",
    "print(\"第一种分组结果：\")\n",
    "for key,group in data.groupby(odd):#相当于依据data的索引值在odd函数上的运行结果作为分类标准\n",
    "    print(key)\n",
    "    print(group)\n",
    "print(\"第二种分组结果：\")\n",
    "for key,group in data.groupby(odd(data['B'])):#相当于依据B列在odd函数的运行结果作为分类标准\n",
    "    print(key)\n",
    "    print(group)"
   ]
  },
  {
   "cell_type": "code",
   "execution_count": 71,
   "metadata": {},
   "outputs": [
    {
     "name": "stdout",
     "output_type": "stream",
     "text": [
      "原始数据：\n",
      "    1   2   3   4   5\n",
      "1   0   1   2   3   4\n",
      "2   5   6   7   8   9\n",
      "3  10  11  12  13  14\n",
      "4  15  16  17  18  19\n",
      "按axis=0进行分组结果如下：\n",
      "False\n",
      "    1   2   3   4   5\n",
      "1   0   1   2   3   4\n",
      "3  10  11  12  13  14\n",
      "True\n",
      "    1   2   3   4   5\n",
      "2   5   6   7   8   9\n",
      "4  15  16  17  18  19\n",
      "按axis=1进行分组结果如下：\n",
      "False\n",
      "    1   3   5\n",
      "1   0   2   4\n",
      "2   5   7   9\n",
      "3  10  12  14\n",
      "4  15  17  19\n",
      "True\n",
      "    2   4\n",
      "1   1   3\n",
      "2   6   8\n",
      "3  11  13\n",
      "4  16  18\n"
     ]
    }
   ],
   "source": [
    "import pandas as pd\n",
    "import numpy as np\n",
    "def odd(num):\n",
    "    return int(num)%2==0\n",
    "data=pd.DataFrame(np.arange(20).reshape(4,5),index=list('1234'),columns=list('12345'))\n",
    "print(\"原始数据：\")\n",
    "print(data)\n",
    "data_axis0=data.groupby(odd,axis=0)#默认依据index在odd上的运行结果进行分组\n",
    "print(\"按axis=0进行分组结果如下：\")\n",
    "for key,group in data_axis0:\n",
    "    print(key)\n",
    "    print(group)\n",
    "data_axis1=data.groupby(odd,axis=1)#默认依据column在odd上的运行结果进行分组\n",
    "print(\"按axis=1进行分组结果如下：\")\n",
    "for key,group in data_axis1:\n",
    "    print(key)\n",
    "    print(group)"
   ]
  },
  {
   "cell_type": "markdown",
   "metadata": {},
   "source": [
    "聚合默认是在axis=0轴进行的\n",
    "\n",
    "代码中的date_list中的每个元素按照顺序与dataframe中的记录一一对应"
   ]
  },
  {
   "cell_type": "code",
   "execution_count": 72,
   "metadata": {},
   "outputs": [
    {
     "name": "stdout",
     "output_type": "stream",
     "text": [
      "    A   B   C   D   E   F\n",
      "1   0   1   2   3   4   5\n",
      "2   6   7   8   9  10  11\n",
      "3  12  13  14  15  16  17\n",
      "4  18  19  20  21  22  23\n",
      "5  24  25  26  27  28  29\n",
      "分组结果如下：\n",
      "2004\n",
      "    A   B   C   D   E   F\n",
      "1   0   1   2   3   4   5\n",
      "5  24  25  26  27  28  29\n",
      "2005\n",
      "    A   B   C   D   E   F\n",
      "2   6   7   8   9  10  11\n",
      "4  18  19  20  21  22  23\n",
      "2006\n",
      "    A   B   C   D   E   F\n",
      "3  12  13  14  15  16  17\n"
     ]
    }
   ],
   "source": [
    "import pandas as pd\n",
    "import numpy as np\n",
    "data=pd.DataFrame(np.arange(30).reshape(5,6),index=list('12345'),columns=list('ABCDEF'))\n",
    "print(data)\n",
    "date_list=[2004,2005,2006,2005,2004]\n",
    "data_1=data.groupby(date_list)\n",
    "print(\"分组结果如下：\")\n",
    "for key,group in data_1:\n",
    "    print(key)\n",
    "    print(group)"
   ]
  },
  {
   "cell_type": "markdown",
   "metadata": {},
   "source": [
    "axis=0 按行分组\n",
    "\n",
    "axis=1 按列分组"
   ]
  },
  {
   "cell_type": "code",
   "execution_count": 73,
   "metadata": {},
   "outputs": [
    {
     "name": "stdout",
     "output_type": "stream",
     "text": [
      "按by_dict分组的结果：\n",
      "black\n",
      "    1   2   3   4   5\n",
      "4  15  16  17  18  19\n",
      "red\n",
      "   1  2  3  4  5\n",
      "1  0  1  2  3  4\n",
      "yellow\n",
      "    1   2   3   4   5\n",
      "2   5   6   7   8   9\n",
      "3  10  11  12  13  14\n",
      "按by_dict1分组的结果：\n",
      "red\n",
      "   1  2  3  4  5\n",
      "1  0  1  2  3  4\n",
      "yellow\n",
      "    1   2   3   4   5\n",
      "2   5   6   7   8   9\n",
      "3  10  11  12  13  14\n"
     ]
    }
   ],
   "source": [
    "import pandas as pd\n",
    "import numpy as np\n",
    "data=pd.DataFrame(np.arange(20).reshape(4,5),index=list('1234'),columns=list('12345'))\n",
    "by_dict={'1':'red','2':'yellow','3':'yellow','4':'black','5':'white'}\n",
    "by_dict1={'1':'red','2':'yellow','3':'yellow','5':'white'}\n",
    "data_1=data.groupby(by_dict)\n",
    "print(\"按by_dict分组的结果：\")\n",
    "for key,group in data_1:\n",
    "    print(key)\n",
    "    print(group)\n",
    "data_2=data.groupby(by_dict1)\n",
    "print(\"按by_dict1分组的结果：\")\n",
    "data_3=data.groupby(by_dict1)\n",
    "for key,group in data_3:\n",
    "    print(key)\n",
    "    print(group)"
   ]
  },
  {
   "cell_type": "markdown",
   "metadata": {},
   "source": [
    "以上这些聚合方法都会排除每个分组内的NaN值"
   ]
  },
  {
   "cell_type": "markdown",
   "metadata": {},
   "source": [
    "自定义聚合\n",
    "\n",
    "agg() 或者 aggregate()"
   ]
  },
  {
   "cell_type": "code",
   "execution_count": 75,
   "metadata": {},
   "outputs": [
    {
     "name": "stdout",
     "output_type": "stream",
     "text": [
      "0    5\n",
      "1    6\n",
      "4    4\n",
      "Name: Data1, dtype: int32\n",
      "2    4\n",
      "3    2\n",
      "Name: Data1, dtype: int32\n",
      "0    18\n",
      "1    14\n",
      "4    18\n",
      "Name: Data2, dtype: int32\n",
      "2    11\n",
      "3    18\n",
      "Name: Data2, dtype: int32\n",
      "0    x\n",
      "1    y\n",
      "4    y\n",
      "Name: key2, dtype: object\n",
      "0    x\n",
      "1    y\n",
      "4    y\n",
      "Name: key2, dtype: object\n",
      "0    x\n",
      "1    y\n",
      "4    y\n",
      "Name: a, dtype: object\n",
      "0    x\n",
      "1    y\n",
      "4    y\n",
      "Name: a, dtype: object\n"
     ]
    },
    {
     "data": {
      "text/html": [
       "<div>\n",
       "<style scoped>\n",
       "    .dataframe tbody tr th:only-of-type {\n",
       "        vertical-align: middle;\n",
       "    }\n",
       "\n",
       "    .dataframe tbody tr th {\n",
       "        vertical-align: top;\n",
       "    }\n",
       "\n",
       "    .dataframe thead th {\n",
       "        text-align: right;\n",
       "    }\n",
       "</style>\n",
       "<table border=\"1\" class=\"dataframe\">\n",
       "  <thead>\n",
       "    <tr style=\"text-align: right;\">\n",
       "      <th></th>\n",
       "      <th>Data1</th>\n",
       "      <th>Data2</th>\n",
       "    </tr>\n",
       "    <tr>\n",
       "      <th>key1</th>\n",
       "      <th></th>\n",
       "      <th></th>\n",
       "    </tr>\n",
       "  </thead>\n",
       "  <tbody>\n",
       "    <tr>\n",
       "      <th>a</th>\n",
       "      <td>2</td>\n",
       "      <td>4</td>\n",
       "    </tr>\n",
       "    <tr>\n",
       "      <th>b</th>\n",
       "      <td>2</td>\n",
       "      <td>7</td>\n",
       "    </tr>\n",
       "  </tbody>\n",
       "</table>\n",
       "</div>"
      ],
      "text/plain": [
       "      Data1  Data2\n",
       "key1              \n",
       "a         2      4\n",
       "b         2      7"
      ]
     },
     "execution_count": 75,
     "metadata": {},
     "output_type": "execute_result"
    }
   ],
   "source": [
    "#返回一个随机整型数，范围从低（包括）到高（不包括），即[low, high)\n",
    "df1=pd.DataFrame({\n",
    "    'Data1':np.random.randint(0,10,5),\n",
    "    'Data2':np.random.randint(10,20,5),\n",
    "    'key1':list('aabba'),\n",
    "    'key2':list('xyyxy')\n",
    "})\n",
    "def peak_range(df):\n",
    "    print(df)\n",
    "    return df.max()-df.min()\n",
    "df1.groupby('key1').agg(peak_range)"
   ]
  },
  {
   "cell_type": "markdown",
   "metadata": {},
   "source": [
    "pd.qcut是等样本数，pd.cut是等值区间分，groupby和pd.cut和pd.qcut结合使用，可以对等值或等样本数分组后的结果进行分析"
   ]
  },
  {
   "cell_type": "code",
   "execution_count": 86,
   "metadata": {},
   "outputs": [
    {
     "data": {
      "text/html": [
       "<div>\n",
       "<style scoped>\n",
       "    .dataframe tbody tr th:only-of-type {\n",
       "        vertical-align: middle;\n",
       "    }\n",
       "\n",
       "    .dataframe tbody tr th {\n",
       "        vertical-align: top;\n",
       "    }\n",
       "\n",
       "    .dataframe thead th {\n",
       "        text-align: right;\n",
       "    }\n",
       "</style>\n",
       "<table border=\"1\" class=\"dataframe\">\n",
       "  <thead>\n",
       "    <tr style=\"text-align: right;\">\n",
       "      <th></th>\n",
       "      <th>data1</th>\n",
       "      <th>data2</th>\n",
       "    </tr>\n",
       "  </thead>\n",
       "  <tbody>\n",
       "    <tr>\n",
       "      <th>0</th>\n",
       "      <td>-0.051800</td>\n",
       "      <td>-0.831499</td>\n",
       "    </tr>\n",
       "    <tr>\n",
       "      <th>1</th>\n",
       "      <td>0.207728</td>\n",
       "      <td>-0.400902</td>\n",
       "    </tr>\n",
       "    <tr>\n",
       "      <th>2</th>\n",
       "      <td>-0.947919</td>\n",
       "      <td>-1.273579</td>\n",
       "    </tr>\n",
       "    <tr>\n",
       "      <th>3</th>\n",
       "      <td>-0.724176</td>\n",
       "      <td>1.099069</td>\n",
       "    </tr>\n",
       "    <tr>\n",
       "      <th>4</th>\n",
       "      <td>-1.385208</td>\n",
       "      <td>-0.362478</td>\n",
       "    </tr>\n",
       "  </tbody>\n",
       "</table>\n",
       "</div>"
      ],
      "text/plain": [
       "      data1     data2\n",
       "0 -0.051800 -0.831499\n",
       "1  0.207728 -0.400902\n",
       "2 -0.947919 -1.273579\n",
       "3 -0.724176  1.099069\n",
       "4 -1.385208 -0.362478"
      ]
     },
     "execution_count": 86,
     "metadata": {},
     "output_type": "execute_result"
    }
   ],
   "source": [
    "frame=pd.DataFrame({'data1':np.random.randn(1000),\n",
    "                   'data2':np.random.randn(1000)})\n",
    "frame.head()"
   ]
  },
  {
   "cell_type": "code",
   "execution_count": 79,
   "metadata": {},
   "outputs": [
    {
     "data": {
      "text/plain": [
       "0    (-1.763, 0.00582]\n",
       "1     (0.00582, 1.775]\n",
       "2    (-1.763, 0.00582]\n",
       "3     (-3.539, -1.763]\n",
       "4    (-1.763, 0.00582]\n",
       "5    (-1.763, 0.00582]\n",
       "6     (0.00582, 1.775]\n",
       "7    (-1.763, 0.00582]\n",
       "8     (0.00582, 1.775]\n",
       "9    (-1.763, 0.00582]\n",
       "Name: data1, dtype: category\n",
       "Categories (4, interval[float64]): [(-3.539, -1.763] < (-1.763, 0.00582] < (0.00582, 1.775] < (1.775, 3.544]]"
      ]
     },
     "execution_count": 79,
     "metadata": {},
     "output_type": "execute_result"
    }
   ],
   "source": [
    "quariles=pd.cut(frame.data1,4)\n",
    "quariles[:10]"
   ]
  },
  {
   "cell_type": "code",
   "execution_count": 80,
   "metadata": {},
   "outputs": [
    {
     "data": {
      "text/plain": [
       "0    (-0.743, -0.0716]\n",
       "1       (0.598, 3.544]\n",
       "2     (-3.533, -0.743]\n",
       "3     (-3.533, -0.743]\n",
       "4    (-0.743, -0.0716]\n",
       "5     (-3.533, -0.743]\n",
       "6     (-0.0716, 0.598]\n",
       "7     (-0.0716, 0.598]\n",
       "8     (-0.0716, 0.598]\n",
       "9    (-0.743, -0.0716]\n",
       "Name: data1, dtype: category\n",
       "Categories (4, interval[float64]): [(-3.533, -0.743] < (-0.743, -0.0716] < (-0.0716, 0.598] < (0.598, 3.544]]"
      ]
     },
     "execution_count": 80,
     "metadata": {},
     "output_type": "execute_result"
    }
   ],
   "source": [
    "quriles_1 = pd.qcut(frame.data1,4)\n",
    "quriles_1[:10]"
   ]
  },
  {
   "cell_type": "code",
   "execution_count": 81,
   "metadata": {},
   "outputs": [],
   "source": [
    "def get(group):\n",
    "    return {'min':group.min(),'max':group.max(),'count':group.count(),'mean':group.mean()}"
   ]
  },
  {
   "cell_type": "code",
   "execution_count": 82,
   "metadata": {},
   "outputs": [
    {
     "data": {
      "text/plain": [
       "data1                   \n",
       "(-3.539, -1.763]   count     44.000000\n",
       "                   max        2.001056\n",
       "                   mean       0.020093\n",
       "                   min       -2.120239\n",
       "(-1.763, 0.00582]  count    488.000000\n",
       "                   max        2.987252\n",
       "                   mean      -0.014376\n",
       "                   min       -2.423425\n",
       "(0.00582, 1.775]   count    436.000000\n",
       "                   max        3.299682\n",
       "                   mean       0.071963\n",
       "                   min       -2.841280\n",
       "(1.775, 3.544]     count     32.000000\n",
       "                   max        2.325723\n",
       "                   mean       0.178789\n",
       "                   min       -1.269346\n",
       "Name: data2, dtype: float64"
      ]
     },
     "execution_count": 82,
     "metadata": {},
     "output_type": "execute_result"
    }
   ],
   "source": [
    "frame.data2.groupby(quariles).apply(get)"
   ]
  },
  {
   "cell_type": "code",
   "execution_count": 83,
   "metadata": {},
   "outputs": [
    {
     "data": {
      "text/html": [
       "<div>\n",
       "<style scoped>\n",
       "    .dataframe tbody tr th:only-of-type {\n",
       "        vertical-align: middle;\n",
       "    }\n",
       "\n",
       "    .dataframe tbody tr th {\n",
       "        vertical-align: top;\n",
       "    }\n",
       "\n",
       "    .dataframe thead th {\n",
       "        text-align: right;\n",
       "    }\n",
       "</style>\n",
       "<table border=\"1\" class=\"dataframe\">\n",
       "  <thead>\n",
       "    <tr style=\"text-align: right;\">\n",
       "      <th></th>\n",
       "      <th>count</th>\n",
       "      <th>max</th>\n",
       "      <th>mean</th>\n",
       "      <th>min</th>\n",
       "    </tr>\n",
       "    <tr>\n",
       "      <th>data1</th>\n",
       "      <th></th>\n",
       "      <th></th>\n",
       "      <th></th>\n",
       "      <th></th>\n",
       "    </tr>\n",
       "  </thead>\n",
       "  <tbody>\n",
       "    <tr>\n",
       "      <th>(-3.539, -1.763]</th>\n",
       "      <td>44.0</td>\n",
       "      <td>2.001056</td>\n",
       "      <td>0.020093</td>\n",
       "      <td>-2.120239</td>\n",
       "    </tr>\n",
       "    <tr>\n",
       "      <th>(-1.763, 0.00582]</th>\n",
       "      <td>488.0</td>\n",
       "      <td>2.987252</td>\n",
       "      <td>-0.014376</td>\n",
       "      <td>-2.423425</td>\n",
       "    </tr>\n",
       "    <tr>\n",
       "      <th>(0.00582, 1.775]</th>\n",
       "      <td>436.0</td>\n",
       "      <td>3.299682</td>\n",
       "      <td>0.071963</td>\n",
       "      <td>-2.841280</td>\n",
       "    </tr>\n",
       "    <tr>\n",
       "      <th>(1.775, 3.544]</th>\n",
       "      <td>32.0</td>\n",
       "      <td>2.325723</td>\n",
       "      <td>0.178789</td>\n",
       "      <td>-1.269346</td>\n",
       "    </tr>\n",
       "  </tbody>\n",
       "</table>\n",
       "</div>"
      ],
      "text/plain": [
       "                   count       max      mean       min\n",
       "data1                                                 \n",
       "(-3.539, -1.763]    44.0  2.001056  0.020093 -2.120239\n",
       "(-1.763, 0.00582]  488.0  2.987252 -0.014376 -2.423425\n",
       "(0.00582, 1.775]   436.0  3.299682  0.071963 -2.841280\n",
       "(1.775, 3.544]      32.0  2.325723  0.178789 -1.269346"
      ]
     },
     "execution_count": 83,
     "metadata": {},
     "output_type": "execute_result"
    }
   ],
   "source": [
    "frame.data2.groupby(quariles).apply(get).unstack()"
   ]
  },
  {
   "cell_type": "code",
   "execution_count": 84,
   "metadata": {},
   "outputs": [
    {
     "data": {
      "text/html": [
       "<div>\n",
       "<style scoped>\n",
       "    .dataframe tbody tr th:only-of-type {\n",
       "        vertical-align: middle;\n",
       "    }\n",
       "\n",
       "    .dataframe tbody tr th {\n",
       "        vertical-align: top;\n",
       "    }\n",
       "\n",
       "    .dataframe thead th {\n",
       "        text-align: right;\n",
       "    }\n",
       "</style>\n",
       "<table border=\"1\" class=\"dataframe\">\n",
       "  <thead>\n",
       "    <tr style=\"text-align: right;\">\n",
       "      <th></th>\n",
       "      <th>count</th>\n",
       "      <th>max</th>\n",
       "      <th>mean</th>\n",
       "      <th>min</th>\n",
       "    </tr>\n",
       "    <tr>\n",
       "      <th>data1</th>\n",
       "      <th></th>\n",
       "      <th></th>\n",
       "      <th></th>\n",
       "      <th></th>\n",
       "    </tr>\n",
       "  </thead>\n",
       "  <tbody>\n",
       "    <tr>\n",
       "      <th>2</th>\n",
       "      <td>1.0</td>\n",
       "      <td>3.0</td>\n",
       "      <td>3.0</td>\n",
       "      <td>3.0</td>\n",
       "    </tr>\n",
       "    <tr>\n",
       "      <th>3</th>\n",
       "      <td>2.0</td>\n",
       "      <td>9.0</td>\n",
       "      <td>6.0</td>\n",
       "      <td>3.0</td>\n",
       "    </tr>\n",
       "    <tr>\n",
       "      <th>4</th>\n",
       "      <td>2.0</td>\n",
       "      <td>7.0</td>\n",
       "      <td>6.0</td>\n",
       "      <td>5.0</td>\n",
       "    </tr>\n",
       "    <tr>\n",
       "      <th>6</th>\n",
       "      <td>1.0</td>\n",
       "      <td>0.0</td>\n",
       "      <td>0.0</td>\n",
       "      <td>0.0</td>\n",
       "    </tr>\n",
       "  </tbody>\n",
       "</table>\n",
       "</div>"
      ],
      "text/plain": [
       "       count  max  mean  min\n",
       "data1                       \n",
       "2        1.0  3.0   3.0  3.0\n",
       "3        2.0  9.0   6.0  3.0\n",
       "4        2.0  7.0   6.0  5.0\n",
       "6        1.0  0.0   0.0  0.0"
      ]
     },
     "execution_count": 84,
     "metadata": {},
     "output_type": "execute_result"
    }
   ],
   "source": [
    "# 去掉分组数值lable,采用默认的0开始的索引\n",
    "q=pd.cut(frame.data1,10,labels=False)\n",
    "df.data2.groupby(q).apply(get).unstack()"
   ]
  },
  {
   "cell_type": "code",
   "execution_count": 85,
   "metadata": {},
   "outputs": [
    {
     "name": "stdout",
     "output_type": "stream",
     "text": [
      "  key1 key2     data1     data2\n",
      "0    a  one -0.751791 -0.354788\n",
      "1    a  two  0.343733 -1.560326\n",
      "2    b  one -1.399751  0.811260\n",
      "3    b  two -1.143035 -0.465153\n",
      "4    e  one -1.016001  1.026423\n"
     ]
    }
   ],
   "source": [
    "df = pd.DataFrame({'key1':list('aabbe'),\n",
    "                   'key2':['one', 'two', 'one', 'two', 'one'],\n",
    "                   'data1':np.random.randn(5),\n",
    "                   'data2':np.random.randn(5)})\n",
    "print(df)"
   ]
  },
  {
   "cell_type": "code",
   "execution_count": 87,
   "metadata": {},
   "outputs": [
    {
     "data": {
      "text/html": [
       "<div>\n",
       "<style scoped>\n",
       "    .dataframe tbody tr th:only-of-type {\n",
       "        vertical-align: middle;\n",
       "    }\n",
       "\n",
       "    .dataframe tbody tr th {\n",
       "        vertical-align: top;\n",
       "    }\n",
       "\n",
       "    .dataframe thead th {\n",
       "        text-align: right;\n",
       "    }\n",
       "</style>\n",
       "<table border=\"1\" class=\"dataframe\">\n",
       "  <thead>\n",
       "    <tr style=\"text-align: right;\">\n",
       "      <th></th>\n",
       "      <th></th>\n",
       "      <th>data1</th>\n",
       "      <th>data2</th>\n",
       "    </tr>\n",
       "    <tr>\n",
       "      <th>key1</th>\n",
       "      <th>key2</th>\n",
       "      <th></th>\n",
       "      <th></th>\n",
       "    </tr>\n",
       "  </thead>\n",
       "  <tbody>\n",
       "    <tr>\n",
       "      <th rowspan=\"2\" valign=\"top\">a</th>\n",
       "      <th>one</th>\n",
       "      <td>-0.751791</td>\n",
       "      <td>-0.354788</td>\n",
       "    </tr>\n",
       "    <tr>\n",
       "      <th>two</th>\n",
       "      <td>0.343733</td>\n",
       "      <td>-1.560326</td>\n",
       "    </tr>\n",
       "    <tr>\n",
       "      <th rowspan=\"2\" valign=\"top\">b</th>\n",
       "      <th>one</th>\n",
       "      <td>-1.399751</td>\n",
       "      <td>0.811260</td>\n",
       "    </tr>\n",
       "    <tr>\n",
       "      <th>two</th>\n",
       "      <td>-1.143035</td>\n",
       "      <td>-0.465153</td>\n",
       "    </tr>\n",
       "    <tr>\n",
       "      <th>e</th>\n",
       "      <th>one</th>\n",
       "      <td>-1.016001</td>\n",
       "      <td>1.026423</td>\n",
       "    </tr>\n",
       "  </tbody>\n",
       "</table>\n",
       "</div>"
      ],
      "text/plain": [
       "              data1     data2\n",
       "key1 key2                    \n",
       "a    one  -0.751791 -0.354788\n",
       "     two   0.343733 -1.560326\n",
       "b    one  -1.399751  0.811260\n",
       "     two  -1.143035 -0.465153\n",
       "e    one  -1.016001  1.026423"
      ]
     },
     "execution_count": 87,
     "metadata": {},
     "output_type": "execute_result"
    }
   ],
   "source": [
    "# 常用聚合函数用引号即可引用\n",
    "df.groupby(['key1','key2']).agg('mean')"
   ]
  },
  {
   "cell_type": "code",
   "execution_count": 88,
   "metadata": {},
   "outputs": [
    {
     "data": {
      "text/html": [
       "<div>\n",
       "<style scoped>\n",
       "    .dataframe tbody tr th:only-of-type {\n",
       "        vertical-align: middle;\n",
       "    }\n",
       "\n",
       "    .dataframe tbody tr th {\n",
       "        vertical-align: top;\n",
       "    }\n",
       "\n",
       "    .dataframe thead tr th {\n",
       "        text-align: left;\n",
       "    }\n",
       "\n",
       "    .dataframe thead tr:last-of-type th {\n",
       "        text-align: right;\n",
       "    }\n",
       "</style>\n",
       "<table border=\"1\" class=\"dataframe\">\n",
       "  <thead>\n",
       "    <tr>\n",
       "      <th></th>\n",
       "      <th></th>\n",
       "      <th colspan=\"4\" halign=\"left\">data1</th>\n",
       "      <th colspan=\"4\" halign=\"left\">data2</th>\n",
       "    </tr>\n",
       "    <tr>\n",
       "      <th></th>\n",
       "      <th></th>\n",
       "      <th>mean</th>\n",
       "      <th>std</th>\n",
       "      <th>sum</th>\n",
       "      <th>count</th>\n",
       "      <th>mean</th>\n",
       "      <th>std</th>\n",
       "      <th>sum</th>\n",
       "      <th>count</th>\n",
       "    </tr>\n",
       "    <tr>\n",
       "      <th>key1</th>\n",
       "      <th>key2</th>\n",
       "      <th></th>\n",
       "      <th></th>\n",
       "      <th></th>\n",
       "      <th></th>\n",
       "      <th></th>\n",
       "      <th></th>\n",
       "      <th></th>\n",
       "      <th></th>\n",
       "    </tr>\n",
       "  </thead>\n",
       "  <tbody>\n",
       "    <tr>\n",
       "      <th rowspan=\"2\" valign=\"top\">a</th>\n",
       "      <th>one</th>\n",
       "      <td>-0.751791</td>\n",
       "      <td>NaN</td>\n",
       "      <td>-0.751791</td>\n",
       "      <td>1</td>\n",
       "      <td>-0.354788</td>\n",
       "      <td>NaN</td>\n",
       "      <td>-0.354788</td>\n",
       "      <td>1</td>\n",
       "    </tr>\n",
       "    <tr>\n",
       "      <th>two</th>\n",
       "      <td>0.343733</td>\n",
       "      <td>NaN</td>\n",
       "      <td>0.343733</td>\n",
       "      <td>1</td>\n",
       "      <td>-1.560326</td>\n",
       "      <td>NaN</td>\n",
       "      <td>-1.560326</td>\n",
       "      <td>1</td>\n",
       "    </tr>\n",
       "    <tr>\n",
       "      <th rowspan=\"2\" valign=\"top\">b</th>\n",
       "      <th>one</th>\n",
       "      <td>-1.399751</td>\n",
       "      <td>NaN</td>\n",
       "      <td>-1.399751</td>\n",
       "      <td>1</td>\n",
       "      <td>0.811260</td>\n",
       "      <td>NaN</td>\n",
       "      <td>0.811260</td>\n",
       "      <td>1</td>\n",
       "    </tr>\n",
       "    <tr>\n",
       "      <th>two</th>\n",
       "      <td>-1.143035</td>\n",
       "      <td>NaN</td>\n",
       "      <td>-1.143035</td>\n",
       "      <td>1</td>\n",
       "      <td>-0.465153</td>\n",
       "      <td>NaN</td>\n",
       "      <td>-0.465153</td>\n",
       "      <td>1</td>\n",
       "    </tr>\n",
       "    <tr>\n",
       "      <th>e</th>\n",
       "      <th>one</th>\n",
       "      <td>-1.016001</td>\n",
       "      <td>NaN</td>\n",
       "      <td>-1.016001</td>\n",
       "      <td>1</td>\n",
       "      <td>1.026423</td>\n",
       "      <td>NaN</td>\n",
       "      <td>1.026423</td>\n",
       "      <td>1</td>\n",
       "    </tr>\n",
       "  </tbody>\n",
       "</table>\n",
       "</div>"
      ],
      "text/plain": [
       "              data1                         data2                    \n",
       "               mean std       sum count      mean std       sum count\n",
       "key1 key2                                                            \n",
       "a    one  -0.751791 NaN -0.751791     1 -0.354788 NaN -0.354788     1\n",
       "     two   0.343733 NaN  0.343733     1 -1.560326 NaN -1.560326     1\n",
       "b    one  -1.399751 NaN -1.399751     1  0.811260 NaN  0.811260     1\n",
       "     two  -1.143035 NaN -1.143035     1 -0.465153 NaN -0.465153     1\n",
       "e    one  -1.016001 NaN -1.016001     1  1.026423 NaN  1.026423     1"
      ]
     },
     "execution_count": 88,
     "metadata": {},
     "output_type": "execute_result"
    }
   ],
   "source": [
    "df.groupby(['key1','key2']).agg(['mean','std','sum','count'])"
   ]
  },
  {
   "cell_type": "markdown",
   "metadata": {},
   "source": [
    "函数名会默认为分组后的列名，如果想改列名，传入二元元组"
   ]
  },
  {
   "cell_type": "code",
   "execution_count": 93,
   "metadata": {},
   "outputs": [
    {
     "data": {
      "text/html": [
       "<div>\n",
       "<style scoped>\n",
       "    .dataframe tbody tr th:only-of-type {\n",
       "        vertical-align: middle;\n",
       "    }\n",
       "\n",
       "    .dataframe tbody tr th {\n",
       "        vertical-align: top;\n",
       "    }\n",
       "\n",
       "    .dataframe thead tr th {\n",
       "        text-align: left;\n",
       "    }\n",
       "\n",
       "    .dataframe thead tr:last-of-type th {\n",
       "        text-align: right;\n",
       "    }\n",
       "</style>\n",
       "<table border=\"1\" class=\"dataframe\">\n",
       "  <thead>\n",
       "    <tr>\n",
       "      <th></th>\n",
       "      <th></th>\n",
       "      <th colspan=\"2\" halign=\"left\">data1</th>\n",
       "      <th colspan=\"2\" halign=\"left\">data2</th>\n",
       "    </tr>\n",
       "    <tr>\n",
       "      <th></th>\n",
       "      <th></th>\n",
       "      <th>foo</th>\n",
       "      <th>haha</th>\n",
       "      <th>foo</th>\n",
       "      <th>haha</th>\n",
       "    </tr>\n",
       "    <tr>\n",
       "      <th>key1</th>\n",
       "      <th>key2</th>\n",
       "      <th></th>\n",
       "      <th></th>\n",
       "      <th></th>\n",
       "      <th></th>\n",
       "    </tr>\n",
       "  </thead>\n",
       "  <tbody>\n",
       "    <tr>\n",
       "      <th rowspan=\"2\" valign=\"top\">a</th>\n",
       "      <th>one</th>\n",
       "      <td>-0.751791</td>\n",
       "      <td>NaN</td>\n",
       "      <td>-0.354788</td>\n",
       "      <td>NaN</td>\n",
       "    </tr>\n",
       "    <tr>\n",
       "      <th>two</th>\n",
       "      <td>0.343733</td>\n",
       "      <td>NaN</td>\n",
       "      <td>-1.560326</td>\n",
       "      <td>NaN</td>\n",
       "    </tr>\n",
       "    <tr>\n",
       "      <th rowspan=\"2\" valign=\"top\">b</th>\n",
       "      <th>one</th>\n",
       "      <td>-1.399751</td>\n",
       "      <td>NaN</td>\n",
       "      <td>0.811260</td>\n",
       "      <td>NaN</td>\n",
       "    </tr>\n",
       "    <tr>\n",
       "      <th>two</th>\n",
       "      <td>-1.143035</td>\n",
       "      <td>NaN</td>\n",
       "      <td>-0.465153</td>\n",
       "      <td>NaN</td>\n",
       "    </tr>\n",
       "    <tr>\n",
       "      <th>e</th>\n",
       "      <th>one</th>\n",
       "      <td>-1.016001</td>\n",
       "      <td>NaN</td>\n",
       "      <td>1.026423</td>\n",
       "      <td>NaN</td>\n",
       "    </tr>\n",
       "  </tbody>\n",
       "</table>\n",
       "</div>"
      ],
      "text/plain": [
       "              data1          data2     \n",
       "                foo haha       foo haha\n",
       "key1 key2                              \n",
       "a    one  -0.751791  NaN -0.354788  NaN\n",
       "     two   0.343733  NaN -1.560326  NaN\n",
       "b    one  -1.399751  NaN  0.811260  NaN\n",
       "     two  -1.143035  NaN -0.465153  NaN\n",
       "e    one  -1.016001  NaN  1.026423  NaN"
      ]
     },
     "execution_count": 93,
     "metadata": {},
     "output_type": "execute_result"
    }
   ],
   "source": [
    "df.groupby(['key1','key2']).agg([('foo','mean'),('haha','std')])"
   ]
  },
  {
   "cell_type": "markdown",
   "metadata": {},
   "source": [
    "不同列用不同函数，用agg({‘列名1’：[‘函数名1’,‘函数名2,…],‘列名2’:[‘函数名2’,…]"
   ]
  },
  {
   "cell_type": "code",
   "execution_count": 94,
   "metadata": {},
   "outputs": [
    {
     "data": {
      "text/html": [
       "<div>\n",
       "<style scoped>\n",
       "    .dataframe tbody tr th:only-of-type {\n",
       "        vertical-align: middle;\n",
       "    }\n",
       "\n",
       "    .dataframe tbody tr th {\n",
       "        vertical-align: top;\n",
       "    }\n",
       "\n",
       "    .dataframe thead tr th {\n",
       "        text-align: left;\n",
       "    }\n",
       "\n",
       "    .dataframe thead tr:last-of-type th {\n",
       "        text-align: right;\n",
       "    }\n",
       "</style>\n",
       "<table border=\"1\" class=\"dataframe\">\n",
       "  <thead>\n",
       "    <tr>\n",
       "      <th></th>\n",
       "      <th></th>\n",
       "      <th colspan=\"3\" halign=\"left\">data1</th>\n",
       "      <th colspan=\"2\" halign=\"left\">data2</th>\n",
       "    </tr>\n",
       "    <tr>\n",
       "      <th></th>\n",
       "      <th></th>\n",
       "      <th>max</th>\n",
       "      <th>min</th>\n",
       "      <th>std</th>\n",
       "      <th>sum</th>\n",
       "      <th>count</th>\n",
       "    </tr>\n",
       "    <tr>\n",
       "      <th>key1</th>\n",
       "      <th>key2</th>\n",
       "      <th></th>\n",
       "      <th></th>\n",
       "      <th></th>\n",
       "      <th></th>\n",
       "      <th></th>\n",
       "    </tr>\n",
       "  </thead>\n",
       "  <tbody>\n",
       "    <tr>\n",
       "      <th rowspan=\"2\" valign=\"top\">a</th>\n",
       "      <th>one</th>\n",
       "      <td>-0.751791</td>\n",
       "      <td>-0.751791</td>\n",
       "      <td>NaN</td>\n",
       "      <td>-0.354788</td>\n",
       "      <td>1</td>\n",
       "    </tr>\n",
       "    <tr>\n",
       "      <th>two</th>\n",
       "      <td>0.343733</td>\n",
       "      <td>0.343733</td>\n",
       "      <td>NaN</td>\n",
       "      <td>-1.560326</td>\n",
       "      <td>1</td>\n",
       "    </tr>\n",
       "    <tr>\n",
       "      <th rowspan=\"2\" valign=\"top\">b</th>\n",
       "      <th>one</th>\n",
       "      <td>-1.399751</td>\n",
       "      <td>-1.399751</td>\n",
       "      <td>NaN</td>\n",
       "      <td>0.811260</td>\n",
       "      <td>1</td>\n",
       "    </tr>\n",
       "    <tr>\n",
       "      <th>two</th>\n",
       "      <td>-1.143035</td>\n",
       "      <td>-1.143035</td>\n",
       "      <td>NaN</td>\n",
       "      <td>-0.465153</td>\n",
       "      <td>1</td>\n",
       "    </tr>\n",
       "    <tr>\n",
       "      <th>e</th>\n",
       "      <th>one</th>\n",
       "      <td>-1.016001</td>\n",
       "      <td>-1.016001</td>\n",
       "      <td>NaN</td>\n",
       "      <td>1.026423</td>\n",
       "      <td>1</td>\n",
       "    </tr>\n",
       "  </tbody>\n",
       "</table>\n",
       "</div>"
      ],
      "text/plain": [
       "              data1                   data2      \n",
       "                max       min std       sum count\n",
       "key1 key2                                        \n",
       "a    one  -0.751791 -0.751791 NaN -0.354788     1\n",
       "     two   0.343733  0.343733 NaN -1.560326     1\n",
       "b    one  -1.399751 -1.399751 NaN  0.811260     1\n",
       "     two  -1.143035 -1.143035 NaN -0.465153     1\n",
       "e    one  -1.016001 -1.016001 NaN  1.026423     1"
      ]
     },
     "execution_count": 94,
     "metadata": {},
     "output_type": "execute_result"
    }
   ],
   "source": [
    "df.groupby(['key1','key2']).agg({'data1':['max','min','std'],\n",
    "                                'data2':['sum','count']})"
   ]
  },
  {
   "cell_type": "markdown",
   "metadata": {},
   "source": [
    "apply与agg相同点：\n",
    "\n",
    "都可以对分组后的结果进行运算\n",
    "\n",
    "\n",
    "apply与agg不同点：\n",
    "\n",
    "① agg只能对单列，apply可以对多列进行；\n",
    "\n",
    "② apply可以使用匿名函数,agg不行"
   ]
  },
  {
   "cell_type": "code",
   "execution_count": 95,
   "metadata": {},
   "outputs": [
    {
     "data": {
      "text/html": [
       "<div>\n",
       "<style scoped>\n",
       "    .dataframe tbody tr th:only-of-type {\n",
       "        vertical-align: middle;\n",
       "    }\n",
       "\n",
       "    .dataframe tbody tr th {\n",
       "        vertical-align: top;\n",
       "    }\n",
       "\n",
       "    .dataframe thead th {\n",
       "        text-align: right;\n",
       "    }\n",
       "</style>\n",
       "<table border=\"1\" class=\"dataframe\">\n",
       "  <thead>\n",
       "    <tr style=\"text-align: right;\">\n",
       "      <th></th>\n",
       "      <th></th>\n",
       "      <th>key1</th>\n",
       "      <th>key2</th>\n",
       "      <th>data1</th>\n",
       "      <th>data2</th>\n",
       "    </tr>\n",
       "    <tr>\n",
       "      <th>key1</th>\n",
       "      <th></th>\n",
       "      <th></th>\n",
       "      <th></th>\n",
       "      <th></th>\n",
       "      <th></th>\n",
       "    </tr>\n",
       "  </thead>\n",
       "  <tbody>\n",
       "    <tr>\n",
       "      <th rowspan=\"2\" valign=\"top\">a</th>\n",
       "      <th>0</th>\n",
       "      <td>a</td>\n",
       "      <td>one</td>\n",
       "      <td>-0.751791</td>\n",
       "      <td>-0.354788</td>\n",
       "    </tr>\n",
       "    <tr>\n",
       "      <th>1</th>\n",
       "      <td>a</td>\n",
       "      <td>two</td>\n",
       "      <td>0.343733</td>\n",
       "      <td>-1.560326</td>\n",
       "    </tr>\n",
       "    <tr>\n",
       "      <th rowspan=\"2\" valign=\"top\">b</th>\n",
       "      <th>2</th>\n",
       "      <td>b</td>\n",
       "      <td>one</td>\n",
       "      <td>-1.399751</td>\n",
       "      <td>0.811260</td>\n",
       "    </tr>\n",
       "    <tr>\n",
       "      <th>3</th>\n",
       "      <td>b</td>\n",
       "      <td>two</td>\n",
       "      <td>-1.143035</td>\n",
       "      <td>-0.465153</td>\n",
       "    </tr>\n",
       "    <tr>\n",
       "      <th>e</th>\n",
       "      <th>4</th>\n",
       "      <td>e</td>\n",
       "      <td>one</td>\n",
       "      <td>-1.016001</td>\n",
       "      <td>1.026423</td>\n",
       "    </tr>\n",
       "  </tbody>\n",
       "</table>\n",
       "</div>"
      ],
      "text/plain": [
       "       key1 key2     data1     data2\n",
       "key1                                \n",
       "a    0    a  one -0.751791 -0.354788\n",
       "     1    a  two  0.343733 -1.560326\n",
       "b    2    b  one -1.399751  0.811260\n",
       "     3    b  two -1.143035 -0.465153\n",
       "e    4    e  one -1.016001  1.026423"
      ]
     },
     "execution_count": 95,
     "metadata": {},
     "output_type": "execute_result"
    }
   ],
   "source": [
    "def top(df,n=2,column='data1'):\n",
    "    return df.sort_values(by=column)[-n:]\n",
    "df.groupby('key1').apply(top)"
   ]
  },
  {
   "cell_type": "code",
   "execution_count": 96,
   "metadata": {},
   "outputs": [
    {
     "data": {
      "text/html": [
       "<div>\n",
       "<style scoped>\n",
       "    .dataframe tbody tr th:only-of-type {\n",
       "        vertical-align: middle;\n",
       "    }\n",
       "\n",
       "    .dataframe tbody tr th {\n",
       "        vertical-align: top;\n",
       "    }\n",
       "\n",
       "    .dataframe thead th {\n",
       "        text-align: right;\n",
       "    }\n",
       "</style>\n",
       "<table border=\"1\" class=\"dataframe\">\n",
       "  <thead>\n",
       "    <tr style=\"text-align: right;\">\n",
       "      <th></th>\n",
       "      <th></th>\n",
       "      <th>key1</th>\n",
       "      <th>key2</th>\n",
       "      <th>data1</th>\n",
       "      <th>data2</th>\n",
       "    </tr>\n",
       "    <tr>\n",
       "      <th>key2</th>\n",
       "      <th></th>\n",
       "      <th></th>\n",
       "      <th></th>\n",
       "      <th></th>\n",
       "      <th></th>\n",
       "    </tr>\n",
       "  </thead>\n",
       "  <tbody>\n",
       "    <tr>\n",
       "      <th rowspan=\"3\" valign=\"top\">one</th>\n",
       "      <th>0</th>\n",
       "      <td>a</td>\n",
       "      <td>one</td>\n",
       "      <td>-0.751791</td>\n",
       "      <td>-0.354788</td>\n",
       "    </tr>\n",
       "    <tr>\n",
       "      <th>2</th>\n",
       "      <td>b</td>\n",
       "      <td>one</td>\n",
       "      <td>-1.399751</td>\n",
       "      <td>0.811260</td>\n",
       "    </tr>\n",
       "    <tr>\n",
       "      <th>4</th>\n",
       "      <td>e</td>\n",
       "      <td>one</td>\n",
       "      <td>-1.016001</td>\n",
       "      <td>1.026423</td>\n",
       "    </tr>\n",
       "    <tr>\n",
       "      <th rowspan=\"2\" valign=\"top\">two</th>\n",
       "      <th>1</th>\n",
       "      <td>a</td>\n",
       "      <td>two</td>\n",
       "      <td>0.343733</td>\n",
       "      <td>-1.560326</td>\n",
       "    </tr>\n",
       "    <tr>\n",
       "      <th>3</th>\n",
       "      <td>b</td>\n",
       "      <td>two</td>\n",
       "      <td>-1.143035</td>\n",
       "      <td>-0.465153</td>\n",
       "    </tr>\n",
       "  </tbody>\n",
       "</table>\n",
       "</div>"
      ],
      "text/plain": [
       "       key1 key2     data1     data2\n",
       "key2                                \n",
       "one  0    a  one -0.751791 -0.354788\n",
       "     2    b  one -1.399751  0.811260\n",
       "     4    e  one -1.016001  1.026423\n",
       "two  1    a  two  0.343733 -1.560326\n",
       "     3    b  two -1.143035 -0.465153"
      ]
     },
     "execution_count": 96,
     "metadata": {},
     "output_type": "execute_result"
    }
   ],
   "source": [
    "df.groupby('key2').apply(top,n=3,column='data2')"
   ]
  },
  {
   "cell_type": "code",
   "execution_count": 100,
   "metadata": {},
   "outputs": [
    {
     "data": {
      "text/html": [
       "<div>\n",
       "<style scoped>\n",
       "    .dataframe tbody tr th:only-of-type {\n",
       "        vertical-align: middle;\n",
       "    }\n",
       "\n",
       "    .dataframe tbody tr th {\n",
       "        vertical-align: top;\n",
       "    }\n",
       "\n",
       "    .dataframe thead th {\n",
       "        text-align: right;\n",
       "    }\n",
       "</style>\n",
       "<table border=\"1\" class=\"dataframe\">\n",
       "  <thead>\n",
       "    <tr style=\"text-align: right;\">\n",
       "      <th></th>\n",
       "      <th>one</th>\n",
       "      <th>two</th>\n",
       "      <th>three</th>\n",
       "    </tr>\n",
       "  </thead>\n",
       "  <tbody>\n",
       "    <tr>\n",
       "      <th>mouse</th>\n",
       "      <td>1</td>\n",
       "      <td>2</td>\n",
       "      <td>3</td>\n",
       "    </tr>\n",
       "    <tr>\n",
       "      <th>rabbit</th>\n",
       "      <td>4</td>\n",
       "      <td>5</td>\n",
       "      <td>6</td>\n",
       "    </tr>\n",
       "  </tbody>\n",
       "</table>\n",
       "</div>"
      ],
      "text/plain": [
       "        one  two  three\n",
       "mouse     1    2      3\n",
       "rabbit    4    5      6"
      ]
     },
     "execution_count": 100,
     "metadata": {},
     "output_type": "execute_result"
    }
   ],
   "source": [
    "data=np.array([[1,2,3],[4,5,6]])\n",
    "idx=['mouse','rabbit']\n",
    "cols=['one','two','three']\n",
    "df=pd.DataFrame(data,index=idx,columns=cols)\n",
    "df"
   ]
  },
  {
   "cell_type": "code",
   "execution_count": 101,
   "metadata": {},
   "outputs": [
    {
     "data": {
      "text/html": [
       "<div>\n",
       "<style scoped>\n",
       "    .dataframe tbody tr th:only-of-type {\n",
       "        vertical-align: middle;\n",
       "    }\n",
       "\n",
       "    .dataframe tbody tr th {\n",
       "        vertical-align: top;\n",
       "    }\n",
       "\n",
       "    .dataframe thead th {\n",
       "        text-align: right;\n",
       "    }\n",
       "</style>\n",
       "<table border=\"1\" class=\"dataframe\">\n",
       "  <thead>\n",
       "    <tr style=\"text-align: right;\">\n",
       "      <th></th>\n",
       "      <th>one</th>\n",
       "      <th>three</th>\n",
       "    </tr>\n",
       "  </thead>\n",
       "  <tbody>\n",
       "    <tr>\n",
       "      <th>mouse</th>\n",
       "      <td>1</td>\n",
       "      <td>3</td>\n",
       "    </tr>\n",
       "    <tr>\n",
       "      <th>rabbit</th>\n",
       "      <td>4</td>\n",
       "      <td>6</td>\n",
       "    </tr>\n",
       "  </tbody>\n",
       "</table>\n",
       "</div>"
      ],
      "text/plain": [
       "        one  three\n",
       "mouse     1      3\n",
       "rabbit    4      6"
      ]
     },
     "execution_count": 101,
     "metadata": {},
     "output_type": "execute_result"
    }
   ],
   "source": [
    "df.filter(items=['one','three'])"
   ]
  },
  {
   "cell_type": "code",
   "execution_count": 102,
   "metadata": {},
   "outputs": [
    {
     "data": {
      "text/html": [
       "<div>\n",
       "<style scoped>\n",
       "    .dataframe tbody tr th:only-of-type {\n",
       "        vertical-align: middle;\n",
       "    }\n",
       "\n",
       "    .dataframe tbody tr th {\n",
       "        vertical-align: top;\n",
       "    }\n",
       "\n",
       "    .dataframe thead th {\n",
       "        text-align: right;\n",
       "    }\n",
       "</style>\n",
       "<table border=\"1\" class=\"dataframe\">\n",
       "  <thead>\n",
       "    <tr style=\"text-align: right;\">\n",
       "      <th></th>\n",
       "      <th>one</th>\n",
       "      <th>three</th>\n",
       "    </tr>\n",
       "  </thead>\n",
       "  <tbody>\n",
       "    <tr>\n",
       "      <th>mouse</th>\n",
       "      <td>1</td>\n",
       "      <td>3</td>\n",
       "    </tr>\n",
       "    <tr>\n",
       "      <th>rabbit</th>\n",
       "      <td>4</td>\n",
       "      <td>6</td>\n",
       "    </tr>\n",
       "  </tbody>\n",
       "</table>\n",
       "</div>"
      ],
      "text/plain": [
       "        one  three\n",
       "mouse     1      3\n",
       "rabbit    4      6"
      ]
     },
     "execution_count": 102,
     "metadata": {},
     "output_type": "execute_result"
    }
   ],
   "source": [
    "df.filter(['one','three'])"
   ]
  },
  {
   "cell_type": "markdown",
   "metadata": {},
   "source": [
    "lambda"
   ]
  },
  {
   "cell_type": "code",
   "execution_count": 103,
   "metadata": {},
   "outputs": [
    {
     "data": {
      "text/plain": [
       "10"
      ]
     },
     "execution_count": 103,
     "metadata": {},
     "output_type": "execute_result"
    }
   ],
   "source": [
    "g=lambda x,y:x+y\n",
    "g(4,6)"
   ]
  },
  {
   "cell_type": "markdown",
   "metadata": {},
   "source": [
    "filter"
   ]
  },
  {
   "cell_type": "code",
   "execution_count": 106,
   "metadata": {},
   "outputs": [
    {
     "data": {
      "text/plain": [
       "[1, 4, 9, 16, 25, 36, 49, 64, 81, 100]"
      ]
     },
     "execution_count": 106,
     "metadata": {},
     "output_type": "execute_result"
    }
   ],
   "source": [
    "import math\n",
    "def add(x):\n",
    "    return math.sqrt(x)%1==0\n",
    "list(filter(add,range(1,101)))"
   ]
  },
  {
   "cell_type": "markdown",
   "metadata": {},
   "source": [
    "map"
   ]
  },
  {
   "cell_type": "code",
   "execution_count": 109,
   "metadata": {},
   "outputs": [
    {
     "data": {
      "text/plain": [
       "[6, 7, 8, 9, 10, 11, 12, 13, 14]"
      ]
     },
     "execution_count": 109,
     "metadata": {},
     "output_type": "execute_result"
    }
   ],
   "source": [
    "def add(x):\n",
    "    return x+5\n",
    "list(map(add,range(1,10)))"
   ]
  },
  {
   "cell_type": "code",
   "execution_count": 114,
   "metadata": {},
   "outputs": [
    {
     "name": "stdout",
     "output_type": "stream",
     "text": [
      "  key1 key2     data1     data2\n",
      "0    a  one  0.010648  0.450186\n",
      "1    a  two -0.077697  1.072488\n",
      "2    b  one -1.537139  0.053031\n",
      "3    b  two -0.935719  1.191869\n",
      "4    e  one  1.286296 -0.511814\n"
     ]
    }
   ],
   "source": [
    "df = pd.DataFrame({'key1':list('aabbe'),\n",
    "                   'key2':['one', 'two', 'one', 'two', 'one'],\n",
    "                   'data1':np.random.randn(5),\n",
    "                   'data2':np.random.randn(5)})\n",
    "print(df)"
   ]
  },
  {
   "cell_type": "code",
   "execution_count": 127,
   "metadata": {},
   "outputs": [
    {
     "name": "stdout",
     "output_type": "stream",
     "text": [
      "{'a':   key1 key2     data1     data2\n",
      "0    a  one  0.010648  0.450186\n",
      "1    a  two -0.077697  1.072488, 'b':   key1 key2     data1     data2\n",
      "2    b  one -1.537139  0.053031\n",
      "3    b  two -0.935719  1.191869, 'e':   key1 key2     data1     data2\n",
      "4    e  one  1.286296 -0.511814}\n"
     ]
    }
   ],
   "source": [
    "aabb=df.groupby('key1')\n",
    "value=dict(list(aabb))\n",
    "print(value)"
   ]
  },
  {
   "cell_type": "code",
   "execution_count": 128,
   "metadata": {},
   "outputs": [
    {
     "data": {
      "text/plain": [
       "3"
      ]
     },
     "execution_count": 128,
     "metadata": {},
     "output_type": "execute_result"
    }
   ],
   "source": [
    "aabb.ngroups"
   ]
  },
  {
   "cell_type": "code",
   "execution_count": 129,
   "metadata": {},
   "outputs": [
    {
     "data": {
      "text/plain": [
       "key1\n",
       "a    2\n",
       "b    2\n",
       "e    1\n",
       "dtype: int64"
      ]
     },
     "execution_count": 129,
     "metadata": {},
     "output_type": "execute_result"
    }
   ],
   "source": [
    "aabb.size()"
   ]
  },
  {
   "cell_type": "code",
   "execution_count": 130,
   "metadata": {},
   "outputs": [
    {
     "data": {
      "text/plain": [
       "{'a': Int64Index([0, 1], dtype='int64'),\n",
       " 'b': Int64Index([2, 3], dtype='int64'),\n",
       " 'e': Int64Index([4], dtype='int64')}"
      ]
     },
     "execution_count": 130,
     "metadata": {},
     "output_type": "execute_result"
    }
   ],
   "source": [
    "aabb.groups"
   ]
  },
  {
   "cell_type": "code",
   "execution_count": 131,
   "metadata": {},
   "outputs": [
    {
     "data": {
      "text/html": [
       "<div>\n",
       "<style scoped>\n",
       "    .dataframe tbody tr th:only-of-type {\n",
       "        vertical-align: middle;\n",
       "    }\n",
       "\n",
       "    .dataframe tbody tr th {\n",
       "        vertical-align: top;\n",
       "    }\n",
       "\n",
       "    .dataframe thead th {\n",
       "        text-align: right;\n",
       "    }\n",
       "</style>\n",
       "<table border=\"1\" class=\"dataframe\">\n",
       "  <thead>\n",
       "    <tr style=\"text-align: right;\">\n",
       "      <th></th>\n",
       "      <th>key1</th>\n",
       "      <th>key2</th>\n",
       "      <th>data1</th>\n",
       "      <th>data2</th>\n",
       "    </tr>\n",
       "  </thead>\n",
       "  <tbody>\n",
       "    <tr>\n",
       "      <th>2</th>\n",
       "      <td>b</td>\n",
       "      <td>one</td>\n",
       "      <td>-1.537139</td>\n",
       "      <td>0.053031</td>\n",
       "    </tr>\n",
       "    <tr>\n",
       "      <th>3</th>\n",
       "      <td>b</td>\n",
       "      <td>two</td>\n",
       "      <td>-0.935719</td>\n",
       "      <td>1.191869</td>\n",
       "    </tr>\n",
       "  </tbody>\n",
       "</table>\n",
       "</div>"
      ],
      "text/plain": [
       "  key1 key2     data1     data2\n",
       "2    b  one -1.537139  0.053031\n",
       "3    b  two -0.935719  1.191869"
      ]
     },
     "execution_count": 131,
     "metadata": {},
     "output_type": "execute_result"
    }
   ],
   "source": [
    "aabb.get_group('b').head()"
   ]
  },
  {
   "cell_type": "markdown",
   "metadata": {},
   "source": [
    "transform()函数转换和原数据形状一样"
   ]
  },
  {
   "cell_type": "code",
   "execution_count": null,
   "metadata": {},
   "outputs": [],
   "source": []
  }
 ],
 "metadata": {
  "kernelspec": {
   "display_name": "Python 3",
   "language": "python",
   "name": "python3"
  },
  "language_info": {
   "codemirror_mode": {
    "name": "ipython",
    "version": 3
   },
   "file_extension": ".py",
   "mimetype": "text/x-python",
   "name": "python",
   "nbconvert_exporter": "python",
   "pygments_lexer": "ipython3",
   "version": "3.7.0"
  }
 },
 "nbformat": 4,
 "nbformat_minor": 2
}
